{
 "cells": [
  {
   "cell_type": "markdown",
   "metadata": {
    "editable": true
   },
   "source": [
    "# Covid vaccination dataset with cities population information\n",
    "### Data Engineering Capstone Project\n",
    "\n",
    "#### Project Summary\n",
    "Enrich a Brazilian Covid Vaccine dataset with information about the different population count for each Brazilian city (considering sex and color) using PySpark and Pandas. By doing this, it's possible to make an analysis to check which kind of vaccine were more applied in each type of population for each city and audit government behavior based on this.\n",
    "\n",
    "The project follows the follow steps:\n",
    "* Step 1: Scope the Project and Gather Data\n",
    "* Step 2: Explore and Assess the Data\n",
    "* Step 3: Define the Data Model\n",
    "* Step 4: Run ETL to Model the Data\n",
    "* Step 5: Complete Project Write Up"
   ]
  },
  {
   "cell_type": "code",
   "execution_count": 1,
   "metadata": {
    "editable": true
   },
   "outputs": [],
   "source": [
    "# Do all imports and installs here\n",
    "import pandas as pd\n",
    "import matplotlib.pyplot as plt\n",
    "import numpy as np\n",
    "import os\n",
    "from pyspark.sql import SparkSession\n",
    "from pyspark.sql.functions import isnan, when, count, col, unix_timestamp, from_unixtime, udf, sum as _sum, dayofmonth, dayofweek, month, year, weekofyear, split, lit, col\n",
    "from pyspark.sql.types import DateType\n",
    "from pyspark.sql import Window\n",
    "import sys\n",
    "import datetime"
   ]
  },
  {
   "cell_type": "code",
   "execution_count": 2,
   "metadata": {
    "editable": true
   },
   "outputs": [],
   "source": [
    "# Create Spark Session\n",
    "spark = SparkSession.builder.\\\n",
    "    config(\"spark.jars.repositories\", \"https://repos.spark-packages.org/\").\\\n",
    "    config(\"spark.jars.packages\",\"saurfang:spark-sas7bdat:2.0.0-s_2.11\").\\\n",
    "    enableHiveSupport().getOrCreate()"
   ]
  },
  {
   "cell_type": "markdown",
   "metadata": {
    "editable": true
   },
   "source": [
    "### Step 1: Scope the Project and Gather Data\n",
    "\n",
    "#### Scope \n",
    "This project intend to get relations between the vaccined and cities regions in Brazil.\n",
    "Three datasources will br used: \n",
    "- brazilian_vaccines_info.csv : Brazilian Vaccine information per patient\n",
    "- brazilian_cities_info.csv: Brazilian population count for each city by different sex.\n",
    "- brazilian_cities_color_info.csv: Brazilian population for each city by different colors.\n",
    "PySpark will be used to process and handle data.\n",
    "\n",
    "#### Describe and Gather Data \n",
    "Covid vaccine data: This dataset is from Kaggle. It's basically a csv file where we can find the data about vaccination in Brazilian people.\n",
    "It can be found in: https://www.kaggle.com/guilhermegoncalves/vacinao-brasil-microdados\n",
    "\n",
    "Brazilian cities information: In this dataset we have information about brazilian cities population by color and sex.\n",
    "It can be found in: https://sidra.ibge.gov.br/tabela/2093"
   ]
  },
  {
   "cell_type": "code",
   "execution_count": 3,
   "metadata": {
    "editable": true
   },
   "outputs": [],
   "source": [
    "# Read in the data here\n",
    "df = spark.read.format(\"csv\").option(\"header\", \"true\").load(\"brazilian_vaccines_info.csv\")"
   ]
  },
  {
   "cell_type": "code",
   "execution_count": 4,
   "metadata": {
    "editable": true
   },
   "outputs": [
    {
     "data": {
      "text/html": [
       "<div>\n",
       "<style scoped>\n",
       "    .dataframe tbody tr th:only-of-type {\n",
       "        vertical-align: middle;\n",
       "    }\n",
       "\n",
       "    .dataframe tbody tr th {\n",
       "        vertical-align: top;\n",
       "    }\n",
       "\n",
       "    .dataframe thead th {\n",
       "        text-align: right;\n",
       "    }\n",
       "</style>\n",
       "<table border=\"1\" class=\"dataframe\">\n",
       "  <thead>\n",
       "    <tr style=\"text-align: right;\">\n",
       "      <th></th>\n",
       "      <th>paciente_codigo_grupo</th>\n",
       "      <th>vacina</th>\n",
       "      <th>vacina_lote</th>\n",
       "      <th>estabelecimento_razao_social</th>\n",
       "      <th>estabelecimento</th>\n",
       "      <th>paciente_cep</th>\n",
       "      <th>estabelecimento_unidade_federativa</th>\n",
       "      <th>sistema_origem</th>\n",
       "      <th>paciente_municipio</th>\n",
       "      <th>paciente_etnia</th>\n",
       "      <th>...</th>\n",
       "      <th>data_aplicacao</th>\n",
       "      <th>documento_uuid</th>\n",
       "      <th>paciente_sexo_biologico</th>\n",
       "      <th>estabelecimento_codigo_cnes</th>\n",
       "      <th>paciente_unidade_federativa</th>\n",
       "      <th>paciente_codigo_pais</th>\n",
       "      <th>paciente_pais</th>\n",
       "      <th>paciente_codigo_ibge_municipio</th>\n",
       "      <th>paciente_subgrupo</th>\n",
       "      <th>paciente_codigo_etnia</th>\n",
       "    </tr>\n",
       "  </thead>\n",
       "  <tbody>\n",
       "    <tr>\n",
       "      <th>0</th>\n",
       "      <td>9</td>\n",
       "      <td>Covid-19-Coronavac-Sinovac/Butantan</td>\n",
       "      <td>202009011</td>\n",
       "      <td>PM DE MORRO DO CHAPEU DO PIAUI</td>\n",
       "      <td>UNIDADE BASICA DE SAUDE PATRIOTINO LAGES REBELO</td>\n",
       "      <td>64180</td>\n",
       "      <td>PI</td>\n",
       "      <td>ESUS APS - NACIONAL (OFFLINE)</td>\n",
       "      <td>Esperantina</td>\n",
       "      <td>Amarela</td>\n",
       "      <td>...</td>\n",
       "      <td>2021-02-16</td>\n",
       "      <td>f9a282c2-d608-50e3-8cd6-614b94579138</td>\n",
       "      <td>F</td>\n",
       "      <td>2649462</td>\n",
       "      <td>PI</td>\n",
       "      <td>10</td>\n",
       "      <td>Brasil</td>\n",
       "      <td>2203701</td>\n",
       "      <td>Enfermeiro(a)</td>\n",
       "      <td>4</td>\n",
       "    </tr>\n",
       "    <tr>\n",
       "      <th>1</th>\n",
       "      <td>9</td>\n",
       "      <td>Covid-19-Coronavac-Sinovac/Butantan</td>\n",
       "      <td>210009</td>\n",
       "      <td>SANTA CASA DE MISERICORDIA DE GUARAREMA</td>\n",
       "      <td>SANTA CASA DE GUARAREMA</td>\n",
       "      <td>12010</td>\n",
       "      <td>SP</td>\n",
       "      <td>VACIVIDA</td>\n",
       "      <td>Taubaté</td>\n",
       "      <td>Branca</td>\n",
       "      <td>...</td>\n",
       "      <td>2021-02-06</td>\n",
       "      <td>0b20fb92-d744-563c-ba0e-fa4a8839fbef</td>\n",
       "      <td>F</td>\n",
       "      <td>2773333</td>\n",
       "      <td>SP</td>\n",
       "      <td>10</td>\n",
       "      <td>Brasil</td>\n",
       "      <td>3554102</td>\n",
       "      <td>Outros</td>\n",
       "      <td>1</td>\n",
       "    </tr>\n",
       "    <tr>\n",
       "      <th>2</th>\n",
       "      <td>9</td>\n",
       "      <td>Covid-19-Coronavac-Sinovac/Butantan</td>\n",
       "      <td>202010041</td>\n",
       "      <td>SECRETARIA DE SAUDE</td>\n",
       "      <td>HOSPITAL BARAO DE LUCENA</td>\n",
       "      <td>50751</td>\n",
       "      <td>PE</td>\n",
       "      <td>Novo PNI</td>\n",
       "      <td>Recife</td>\n",
       "      <td>Amarela</td>\n",
       "      <td>...</td>\n",
       "      <td>2021-02-12</td>\n",
       "      <td>df60db8c-841a-572d-873b-3f45ea50306a</td>\n",
       "      <td>M</td>\n",
       "      <td>2427427</td>\n",
       "      <td>PE</td>\n",
       "      <td>10</td>\n",
       "      <td>Brasil</td>\n",
       "      <td>2611606</td>\n",
       "      <td>Auxiliar de Enfermagem</td>\n",
       "      <td>4</td>\n",
       "    </tr>\n",
       "    <tr>\n",
       "      <th>3</th>\n",
       "      <td>9</td>\n",
       "      <td>Covid-19-Coronavac-Sinovac/Butantan</td>\n",
       "      <td>210009</td>\n",
       "      <td>MUNICIPIO DE SAO VICENTE</td>\n",
       "      <td>ESF RIO BRANCO II E III SAO VICENTE</td>\n",
       "      <td>11349</td>\n",
       "      <td>SP</td>\n",
       "      <td>VACIVIDA</td>\n",
       "      <td>São Vicente</td>\n",
       "      <td>None</td>\n",
       "      <td>...</td>\n",
       "      <td>2021-02-08</td>\n",
       "      <td>f72b6488-50ba-5fb6-ad53-52c4563f4442</td>\n",
       "      <td>F</td>\n",
       "      <td>2033275</td>\n",
       "      <td>SP</td>\n",
       "      <td>10</td>\n",
       "      <td>Brasil</td>\n",
       "      <td>3551009</td>\n",
       "      <td>Outros</td>\n",
       "      <td>99</td>\n",
       "    </tr>\n",
       "    <tr>\n",
       "      <th>4</th>\n",
       "      <td>9</td>\n",
       "      <td>Vacina Covid-19 - Covishield</td>\n",
       "      <td>4120Z005</td>\n",
       "      <td>MUNICIPIO DE JOAO PESSOA</td>\n",
       "      <td>REDE FRIO CENTRAL MUNICIPAL DE IMUNOBIOLOGICOS</td>\n",
       "      <td>58020</td>\n",
       "      <td>PB</td>\n",
       "      <td>Novo PNI</td>\n",
       "      <td>João Pessoa</td>\n",
       "      <td>Amarela</td>\n",
       "      <td>...</td>\n",
       "      <td>2021-02-02</td>\n",
       "      <td>597a9698-ba66-5e11-a1b8-bbe72dabbb33</td>\n",
       "      <td>M</td>\n",
       "      <td>287660</td>\n",
       "      <td>PB</td>\n",
       "      <td>10</td>\n",
       "      <td>Brasil</td>\n",
       "      <td>2507507</td>\n",
       "      <td>Técnico de Enfermagem</td>\n",
       "      <td>4</td>\n",
       "    </tr>\n",
       "  </tbody>\n",
       "</table>\n",
       "<p>5 rows × 29 columns</p>\n",
       "</div>"
      ],
      "text/plain": [
       "  paciente_codigo_grupo                               vacina vacina_lote  \\\n",
       "0                     9  Covid-19-Coronavac-Sinovac/Butantan   202009011   \n",
       "1                     9  Covid-19-Coronavac-Sinovac/Butantan      210009   \n",
       "2                     9  Covid-19-Coronavac-Sinovac/Butantan   202010041   \n",
       "3                     9  Covid-19-Coronavac-Sinovac/Butantan      210009   \n",
       "4                     9         Vacina Covid-19 - Covishield    4120Z005   \n",
       "\n",
       "              estabelecimento_razao_social  \\\n",
       "0           PM DE MORRO DO CHAPEU DO PIAUI   \n",
       "1  SANTA CASA DE MISERICORDIA DE GUARAREMA   \n",
       "2                      SECRETARIA DE SAUDE   \n",
       "3                 MUNICIPIO DE SAO VICENTE   \n",
       "4                 MUNICIPIO DE JOAO PESSOA   \n",
       "\n",
       "                                   estabelecimento paciente_cep  \\\n",
       "0  UNIDADE BASICA DE SAUDE PATRIOTINO LAGES REBELO        64180   \n",
       "1                          SANTA CASA DE GUARAREMA        12010   \n",
       "2                         HOSPITAL BARAO DE LUCENA        50751   \n",
       "3              ESF RIO BRANCO II E III SAO VICENTE        11349   \n",
       "4   REDE FRIO CENTRAL MUNICIPAL DE IMUNOBIOLOGICOS        58020   \n",
       "\n",
       "  estabelecimento_unidade_federativa                 sistema_origem  \\\n",
       "0                                 PI  ESUS APS - NACIONAL (OFFLINE)   \n",
       "1                                 SP                       VACIVIDA   \n",
       "2                                 PE                       Novo PNI   \n",
       "3                                 SP                       VACIVIDA   \n",
       "4                                 PB                       Novo PNI   \n",
       "\n",
       "  paciente_municipio paciente_etnia          ...          data_aplicacao  \\\n",
       "0        Esperantina        Amarela          ...              2021-02-16   \n",
       "1            Taubaté         Branca          ...              2021-02-06   \n",
       "2             Recife        Amarela          ...              2021-02-12   \n",
       "3        São Vicente           None          ...              2021-02-08   \n",
       "4        João Pessoa        Amarela          ...              2021-02-02   \n",
       "\n",
       "                         documento_uuid paciente_sexo_biologico  \\\n",
       "0  f9a282c2-d608-50e3-8cd6-614b94579138                       F   \n",
       "1  0b20fb92-d744-563c-ba0e-fa4a8839fbef                       F   \n",
       "2  df60db8c-841a-572d-873b-3f45ea50306a                       M   \n",
       "3  f72b6488-50ba-5fb6-ad53-52c4563f4442                       F   \n",
       "4  597a9698-ba66-5e11-a1b8-bbe72dabbb33                       M   \n",
       "\n",
       "  estabelecimento_codigo_cnes paciente_unidade_federativa  \\\n",
       "0                     2649462                          PI   \n",
       "1                     2773333                          SP   \n",
       "2                     2427427                          PE   \n",
       "3                     2033275                          SP   \n",
       "4                      287660                          PB   \n",
       "\n",
       "  paciente_codigo_pais paciente_pais paciente_codigo_ibge_municipio  \\\n",
       "0                   10        Brasil                        2203701   \n",
       "1                   10        Brasil                        3554102   \n",
       "2                   10        Brasil                        2611606   \n",
       "3                   10        Brasil                        3551009   \n",
       "4                   10        Brasil                        2507507   \n",
       "\n",
       "        paciente_subgrupo paciente_codigo_etnia  \n",
       "0           Enfermeiro(a)                     4  \n",
       "1                  Outros                     1  \n",
       "2  Auxiliar de Enfermagem                     4  \n",
       "3                  Outros                    99  \n",
       "4   Técnico de Enfermagem                     4  \n",
       "\n",
       "[5 rows x 29 columns]"
      ]
     },
     "execution_count": 4,
     "metadata": {},
     "output_type": "execute_result"
    }
   ],
   "source": [
    "df.limit(5).toPandas()"
   ]
  },
  {
   "cell_type": "code",
   "execution_count": 5,
   "metadata": {
    "editable": true
   },
   "outputs": [
    {
     "data": {
      "text/plain": [
       "6272491"
      ]
     },
     "execution_count": 5,
     "metadata": {},
     "output_type": "execute_result"
    }
   ],
   "source": [
    "df.count()"
   ]
  },
  {
   "cell_type": "code",
   "execution_count": 6,
   "metadata": {
    "editable": true
   },
   "outputs": [],
   "source": [
    "df_cities_by_sex = spark.read.format(\"csv\").option(\"delimiter\",\";\").option(\"header\", \"true\").load(\"brazilian_cities_info.csv\")"
   ]
  },
  {
   "cell_type": "code",
   "execution_count": 7,
   "metadata": {
    "editable": true
   },
   "outputs": [
    {
     "data": {
      "text/html": [
       "<div>\n",
       "<style scoped>\n",
       "    .dataframe tbody tr th:only-of-type {\n",
       "        vertical-align: middle;\n",
       "    }\n",
       "\n",
       "    .dataframe tbody tr th {\n",
       "        vertical-align: top;\n",
       "    }\n",
       "\n",
       "    .dataframe thead th {\n",
       "        text-align: right;\n",
       "    }\n",
       "</style>\n",
       "<table border=\"1\" class=\"dataframe\">\n",
       "  <thead>\n",
       "    <tr style=\"text-align: right;\">\n",
       "      <th></th>\n",
       "      <th>Brasil e Município</th>\n",
       "      <th>Situação do domicílio</th>\n",
       "      <th>Grupo de idade</th>\n",
       "      <th>Total</th>\n",
       "      <th>Homens</th>\n",
       "      <th>Mulheres</th>\n",
       "    </tr>\n",
       "  </thead>\n",
       "  <tbody>\n",
       "    <tr>\n",
       "      <th>0</th>\n",
       "      <td>Brasil</td>\n",
       "      <td>Total</td>\n",
       "      <td>Total</td>\n",
       "      <td>190755799</td>\n",
       "      <td>93406990</td>\n",
       "      <td>97348809</td>\n",
       "    </tr>\n",
       "    <tr>\n",
       "      <th>1</th>\n",
       "      <td>Alta Floresta D'Oeste (RO)</td>\n",
       "      <td>Total</td>\n",
       "      <td>Total</td>\n",
       "      <td>24392</td>\n",
       "      <td>12656</td>\n",
       "      <td>11736</td>\n",
       "    </tr>\n",
       "    <tr>\n",
       "      <th>2</th>\n",
       "      <td>Ariquemes (RO)</td>\n",
       "      <td>Total</td>\n",
       "      <td>Total</td>\n",
       "      <td>90353</td>\n",
       "      <td>45543</td>\n",
       "      <td>44810</td>\n",
       "    </tr>\n",
       "    <tr>\n",
       "      <th>3</th>\n",
       "      <td>Cabixi (RO)</td>\n",
       "      <td>Total</td>\n",
       "      <td>Total</td>\n",
       "      <td>6313</td>\n",
       "      <td>3266</td>\n",
       "      <td>3047</td>\n",
       "    </tr>\n",
       "    <tr>\n",
       "      <th>4</th>\n",
       "      <td>Cacoal (RO)</td>\n",
       "      <td>Total</td>\n",
       "      <td>Total</td>\n",
       "      <td>78574</td>\n",
       "      <td>39124</td>\n",
       "      <td>39450</td>\n",
       "    </tr>\n",
       "  </tbody>\n",
       "</table>\n",
       "</div>"
      ],
      "text/plain": [
       "           Brasil e Município Situação do domicílio Grupo de idade      Total  \\\n",
       "0                      Brasil                 Total          Total  190755799   \n",
       "1  Alta Floresta D'Oeste (RO)                 Total          Total      24392   \n",
       "2              Ariquemes (RO)                 Total          Total      90353   \n",
       "3                 Cabixi (RO)                 Total          Total       6313   \n",
       "4                 Cacoal (RO)                 Total          Total      78574   \n",
       "\n",
       "     Homens  Mulheres  \n",
       "0  93406990  97348809  \n",
       "1     12656     11736  \n",
       "2     45543     44810  \n",
       "3      3266      3047  \n",
       "4     39124     39450  "
      ]
     },
     "execution_count": 7,
     "metadata": {},
     "output_type": "execute_result"
    }
   ],
   "source": [
    "df_cities_by_sex.limit(5).toPandas()"
   ]
  },
  {
   "cell_type": "code",
   "execution_count": 8,
   "metadata": {
    "editable": true
   },
   "outputs": [],
   "source": [
    "df_cities_by_color = spark.read.format(\"csv\").option(\"delimiter\",\";\").option(\"header\", \"true\").load(\"brazilian_cities_color_info.csv\")"
   ]
  },
  {
   "cell_type": "code",
   "execution_count": 9,
   "metadata": {
    "editable": true
   },
   "outputs": [
    {
     "data": {
      "text/html": [
       "<div>\n",
       "<style scoped>\n",
       "    .dataframe tbody tr th:only-of-type {\n",
       "        vertical-align: middle;\n",
       "    }\n",
       "\n",
       "    .dataframe tbody tr th {\n",
       "        vertical-align: top;\n",
       "    }\n",
       "\n",
       "    .dataframe thead th {\n",
       "        text-align: right;\n",
       "    }\n",
       "</style>\n",
       "<table border=\"1\" class=\"dataframe\">\n",
       "  <thead>\n",
       "    <tr style=\"text-align: right;\">\n",
       "      <th></th>\n",
       "      <th>Brasil e Município</th>\n",
       "      <th>Situação do domicílio</th>\n",
       "      <th>Grupo de idade</th>\n",
       "      <th>Total</th>\n",
       "      <th>Branca</th>\n",
       "      <th>Preta</th>\n",
       "      <th>Amarela</th>\n",
       "      <th>Parda</th>\n",
       "      <th>Indígena</th>\n",
       "      <th>Sem declaração</th>\n",
       "    </tr>\n",
       "  </thead>\n",
       "  <tbody>\n",
       "    <tr>\n",
       "      <th>0</th>\n",
       "      <td>Brasil</td>\n",
       "      <td>Total</td>\n",
       "      <td>Total</td>\n",
       "      <td>190755799</td>\n",
       "      <td>90621281</td>\n",
       "      <td>14351162</td>\n",
       "      <td>2105353</td>\n",
       "      <td>82820452</td>\n",
       "      <td>821501</td>\n",
       "      <td>36051</td>\n",
       "    </tr>\n",
       "    <tr>\n",
       "      <th>1</th>\n",
       "      <td>Alta Floresta D'Oeste (RO)</td>\n",
       "      <td>Total</td>\n",
       "      <td>Total</td>\n",
       "      <td>24392</td>\n",
       "      <td>10583</td>\n",
       "      <td>1094</td>\n",
       "      <td>96</td>\n",
       "      <td>12122</td>\n",
       "      <td>497</td>\n",
       "      <td>-</td>\n",
       "    </tr>\n",
       "    <tr>\n",
       "      <th>2</th>\n",
       "      <td>Ariquemes (RO)</td>\n",
       "      <td>Total</td>\n",
       "      <td>Total</td>\n",
       "      <td>90353</td>\n",
       "      <td>32025</td>\n",
       "      <td>7810</td>\n",
       "      <td>1916</td>\n",
       "      <td>48505</td>\n",
       "      <td>97</td>\n",
       "      <td>-</td>\n",
       "    </tr>\n",
       "    <tr>\n",
       "      <th>3</th>\n",
       "      <td>Cabixi (RO)</td>\n",
       "      <td>Total</td>\n",
       "      <td>Total</td>\n",
       "      <td>6313</td>\n",
       "      <td>2918</td>\n",
       "      <td>465</td>\n",
       "      <td>101</td>\n",
       "      <td>2827</td>\n",
       "      <td>3</td>\n",
       "      <td>-</td>\n",
       "    </tr>\n",
       "    <tr>\n",
       "      <th>4</th>\n",
       "      <td>Cacoal (RO)</td>\n",
       "      <td>Total</td>\n",
       "      <td>Total</td>\n",
       "      <td>78574</td>\n",
       "      <td>32837</td>\n",
       "      <td>4534</td>\n",
       "      <td>1023</td>\n",
       "      <td>38714</td>\n",
       "      <td>1467</td>\n",
       "      <td>-</td>\n",
       "    </tr>\n",
       "  </tbody>\n",
       "</table>\n",
       "</div>"
      ],
      "text/plain": [
       "           Brasil e Município Situação do domicílio Grupo de idade      Total  \\\n",
       "0                      Brasil                 Total          Total  190755799   \n",
       "1  Alta Floresta D'Oeste (RO)                 Total          Total      24392   \n",
       "2              Ariquemes (RO)                 Total          Total      90353   \n",
       "3                 Cabixi (RO)                 Total          Total       6313   \n",
       "4                 Cacoal (RO)                 Total          Total      78574   \n",
       "\n",
       "     Branca     Preta  Amarela     Parda Indígena Sem declaração  \n",
       "0  90621281  14351162  2105353  82820452   821501          36051  \n",
       "1     10583      1094       96     12122      497              -  \n",
       "2     32025      7810     1916     48505       97              -  \n",
       "3      2918       465      101      2827        3              -  \n",
       "4     32837      4534     1023     38714     1467              -  "
      ]
     },
     "execution_count": 9,
     "metadata": {},
     "output_type": "execute_result"
    }
   ],
   "source": [
    "df_cities_by_color.limit(5).toPandas()"
   ]
  },
  {
   "cell_type": "markdown",
   "metadata": {
    "editable": true
   },
   "source": [
    "### Step 2: Explore and Assess the Data\n",
    "#### Explore the Data \n",
    "Identify data quality issues, like missing values, duplicate data, etc.\n",
    "\n",
    "#### Cleaning Steps\n",
    "- Perform casts in order to have the right types for each field.\n",
    "- Remove null values from some important columns.\n",
    "- Remove duplicated and unused data in cities related dataframes."
   ]
  },
  {
   "cell_type": "code",
   "execution_count": 10,
   "metadata": {
    "editable": true
   },
   "outputs": [],
   "source": [
    "# Performing cleaning tasks here\n",
    "def perform_column_cast(dataframe, col_name, new_type):\n",
    "    return dataframe.withColumn(col_name, dataframe[col_name].cast(new_type))\n",
    "\n",
    "def remove_null_rows(dataframe, col_name):\n",
    "    return dataframe.filter(col(col_name).isNotNull())"
   ]
  },
  {
   "cell_type": "markdown",
   "metadata": {
    "editable": true
   },
   "source": [
    "#### Cleaning Vaccines Dataset"
   ]
  },
  {
   "cell_type": "code",
   "execution_count": 11,
   "metadata": {
    "editable": true
   },
   "outputs": [
    {
     "name": "stdout",
     "output_type": "stream",
     "text": [
      "root\n",
      " |-- paciente_codigo_grupo: string (nullable = true)\n",
      " |-- vacina: string (nullable = true)\n",
      " |-- vacina_lote: string (nullable = true)\n",
      " |-- estabelecimento_razao_social: string (nullable = true)\n",
      " |-- estabelecimento: string (nullable = true)\n",
      " |-- paciente_cep: string (nullable = true)\n",
      " |-- estabelecimento_unidade_federativa: string (nullable = true)\n",
      " |-- sistema_origem: string (nullable = true)\n",
      " |-- paciente_municipio: string (nullable = true)\n",
      " |-- paciente_etnia: string (nullable = true)\n",
      " |-- estabelecimento_municipio: string (nullable = true)\n",
      " |-- paciente_idade: string (nullable = true)\n",
      " |-- paciente_codigo_subgrupo: string (nullable = true)\n",
      " |-- numero_dose: string (nullable = true)\n",
      " |-- paciente_nacionalidade: string (nullable = true)\n",
      " |-- codigo_vacina: string (nullable = true)\n",
      " |-- estabelecimento_codigo_ibge_municipio: string (nullable = true)\n",
      " |-- paciente_uuid: string (nullable = true)\n",
      " |-- paciente_grupo: string (nullable = true)\n",
      " |-- data_aplicacao: string (nullable = true)\n",
      " |-- documento_uuid: string (nullable = true)\n",
      " |-- paciente_sexo_biologico: string (nullable = true)\n",
      " |-- estabelecimento_codigo_cnes: string (nullable = true)\n",
      " |-- paciente_unidade_federativa: string (nullable = true)\n",
      " |-- paciente_codigo_pais: string (nullable = true)\n",
      " |-- paciente_pais: string (nullable = true)\n",
      " |-- paciente_codigo_ibge_municipio: string (nullable = true)\n",
      " |-- paciente_subgrupo: string (nullable = true)\n",
      " |-- paciente_codigo_etnia: string (nullable = true)\n",
      "\n"
     ]
    }
   ],
   "source": [
    "df.printSchema()"
   ]
  },
  {
   "cell_type": "code",
   "execution_count": 12,
   "metadata": {
    "editable": true
   },
   "outputs": [
    {
     "data": {
      "text/html": [
       "<div>\n",
       "<style scoped>\n",
       "    .dataframe tbody tr th:only-of-type {\n",
       "        vertical-align: middle;\n",
       "    }\n",
       "\n",
       "    .dataframe tbody tr th {\n",
       "        vertical-align: top;\n",
       "    }\n",
       "\n",
       "    .dataframe thead th {\n",
       "        text-align: right;\n",
       "    }\n",
       "</style>\n",
       "<table border=\"1\" class=\"dataframe\">\n",
       "  <thead>\n",
       "    <tr style=\"text-align: right;\">\n",
       "      <th></th>\n",
       "      <th>paciente_codigo_grupo</th>\n",
       "      <th>vacina</th>\n",
       "      <th>vacina_lote</th>\n",
       "      <th>estabelecimento_razao_social</th>\n",
       "      <th>estabelecimento</th>\n",
       "      <th>paciente_cep</th>\n",
       "      <th>estabelecimento_unidade_federativa</th>\n",
       "      <th>sistema_origem</th>\n",
       "      <th>paciente_municipio</th>\n",
       "      <th>paciente_etnia</th>\n",
       "      <th>...</th>\n",
       "      <th>data_aplicacao</th>\n",
       "      <th>documento_uuid</th>\n",
       "      <th>paciente_sexo_biologico</th>\n",
       "      <th>estabelecimento_codigo_cnes</th>\n",
       "      <th>paciente_unidade_federativa</th>\n",
       "      <th>paciente_codigo_pais</th>\n",
       "      <th>paciente_pais</th>\n",
       "      <th>paciente_codigo_ibge_municipio</th>\n",
       "      <th>paciente_subgrupo</th>\n",
       "      <th>paciente_codigo_etnia</th>\n",
       "    </tr>\n",
       "  </thead>\n",
       "  <tbody>\n",
       "    <tr>\n",
       "      <th>0</th>\n",
       "      <td>118923</td>\n",
       "      <td>0</td>\n",
       "      <td>0</td>\n",
       "      <td>0</td>\n",
       "      <td>0</td>\n",
       "      <td>1247460</td>\n",
       "      <td>0</td>\n",
       "      <td>0</td>\n",
       "      <td>34922</td>\n",
       "      <td>1673840</td>\n",
       "      <td>...</td>\n",
       "      <td>20782</td>\n",
       "      <td>0</td>\n",
       "      <td>1</td>\n",
       "      <td>0</td>\n",
       "      <td>34951</td>\n",
       "      <td>33962</td>\n",
       "      <td>33962</td>\n",
       "      <td>34951</td>\n",
       "      <td>118923</td>\n",
       "      <td>1</td>\n",
       "    </tr>\n",
       "  </tbody>\n",
       "</table>\n",
       "<p>1 rows × 29 columns</p>\n",
       "</div>"
      ],
      "text/plain": [
       "   paciente_codigo_grupo  vacina  vacina_lote  estabelecimento_razao_social  \\\n",
       "0                 118923       0            0                             0   \n",
       "\n",
       "   estabelecimento  paciente_cep  estabelecimento_unidade_federativa  \\\n",
       "0                0       1247460                                   0   \n",
       "\n",
       "   sistema_origem  paciente_municipio  paciente_etnia          ...            \\\n",
       "0               0               34922         1673840          ...             \n",
       "\n",
       "   data_aplicacao  documento_uuid  paciente_sexo_biologico  \\\n",
       "0           20782               0                        1   \n",
       "\n",
       "   estabelecimento_codigo_cnes  paciente_unidade_federativa  \\\n",
       "0                            0                        34951   \n",
       "\n",
       "   paciente_codigo_pais  paciente_pais  paciente_codigo_ibge_municipio  \\\n",
       "0                 33962          33962                           34951   \n",
       "\n",
       "   paciente_subgrupo  paciente_codigo_etnia  \n",
       "0             118923                      1  \n",
       "\n",
       "[1 rows x 29 columns]"
      ]
     },
     "execution_count": 12,
     "metadata": {},
     "output_type": "execute_result"
    }
   ],
   "source": [
    "# Count number of null values per collumns\n",
    "df.select([count(when(col(c).isNull(), c)).alias(c) for c in df.columns]).toPandas()"
   ]
  },
  {
   "cell_type": "code",
   "execution_count": 13,
   "metadata": {
    "editable": true
   },
   "outputs": [
    {
     "name": "stdout",
     "output_type": "stream",
     "text": [
      "root\n",
      " |-- paciente_codigo_grupo: integer (nullable = true)\n",
      " |-- vacina: string (nullable = true)\n",
      " |-- vacina_lote: integer (nullable = true)\n",
      " |-- estabelecimento_razao_social: string (nullable = true)\n",
      " |-- estabelecimento: string (nullable = true)\n",
      " |-- paciente_cep: integer (nullable = true)\n",
      " |-- estabelecimento_unidade_federativa: string (nullable = true)\n",
      " |-- sistema_origem: string (nullable = true)\n",
      " |-- paciente_municipio: string (nullable = true)\n",
      " |-- paciente_etnia: string (nullable = true)\n",
      " |-- estabelecimento_municipio: string (nullable = true)\n",
      " |-- paciente_idade: string (nullable = true)\n",
      " |-- paciente_codigo_subgrupo: integer (nullable = true)\n",
      " |-- numero_dose: integer (nullable = true)\n",
      " |-- paciente_nacionalidade: string (nullable = true)\n",
      " |-- codigo_vacina: integer (nullable = true)\n",
      " |-- estabelecimento_codigo_ibge_municipio: integer (nullable = true)\n",
      " |-- paciente_uuid: string (nullable = true)\n",
      " |-- paciente_grupo: string (nullable = true)\n",
      " |-- data_aplicacao: date (nullable = true)\n",
      " |-- documento_uuid: string (nullable = true)\n",
      " |-- paciente_sexo_biologico: string (nullable = true)\n",
      " |-- estabelecimento_codigo_cnes: integer (nullable = true)\n",
      " |-- paciente_unidade_federativa: string (nullable = true)\n",
      " |-- paciente_codigo_pais: integer (nullable = true)\n",
      " |-- paciente_pais: string (nullable = true)\n",
      " |-- paciente_codigo_ibge_municipio: integer (nullable = true)\n",
      " |-- paciente_subgrupo: string (nullable = true)\n",
      " |-- paciente_codigo_etnia: integer (nullable = true)\n",
      "\n"
     ]
    }
   ],
   "source": [
    "def fix_column_type_vac(df):\n",
    "    #Provide the correct type for all columns\n",
    "    df_cleaned_vac = df\n",
    "    df_cleaned_vac = perform_column_cast(df_cleaned_vac, \"paciente_codigo_grupo\", 'int')\n",
    "    df_cleaned_vac = perform_column_cast(df_cleaned_vac, \"vacina_lote\", 'int')\n",
    "    df_cleaned_vac = perform_column_cast(df_cleaned_vac, \"paciente_cep\", 'int')\n",
    "    df_cleaned_vac = perform_column_cast(df_cleaned_vac, \"paciente_codigo_subgrupo\", 'int')\n",
    "    df_cleaned_vac = perform_column_cast(df_cleaned_vac, \"numero_dose\", 'int')\n",
    "    df_cleaned_vac = perform_column_cast(df_cleaned_vac, \"codigo_vacina\", 'int')\n",
    "    df_cleaned_vac = perform_column_cast(df_cleaned_vac, \"estabelecimento_codigo_ibge_municipio\", 'int')\n",
    "    df_cleaned_vac = perform_column_cast(df_cleaned_vac, \"estabelecimento_codigo_cnes\", 'int')\n",
    "    df_cleaned_vac = perform_column_cast(df_cleaned_vac, \"paciente_codigo_pais\", 'int')\n",
    "    df_cleaned_vac = perform_column_cast(df_cleaned_vac, \"paciente_codigo_ibge_municipio\", 'int')\n",
    "    df_cleaned_vac = perform_column_cast(df_cleaned_vac, \"paciente_codigo_etnia\", 'int')\n",
    "    df_cleaned_vac = perform_column_cast(df_cleaned_vac, \"data_aplicacao\", 'date')\n",
    "    return df_cleaned_vac\n",
    "\n",
    "df_cleaned_vac = fix_column_type_vac(df)\n",
    "\n",
    "#remove rows where we have the city as null\n",
    "df_cleaned_vac = remove_null_rows(df_cleaned_vac, 'paciente_municipio') #city name\n",
    "df_cleaned_vac = remove_null_rows(df_cleaned_vac, 'paciente_codigo_ibge_municipio') #city code\n",
    "\n",
    "df_cleaned_vac.printSchema()"
   ]
  },
  {
   "cell_type": "code",
   "execution_count": 14,
   "metadata": {
    "editable": true
   },
   "outputs": [
    {
     "name": "stdout",
     "output_type": "stream",
     "text": [
      "Numbers of cities covered in vaccine dataset:  5570\n"
     ]
    }
   ],
   "source": [
    "# Checking how many different cities we have in the vaccine dataset\n",
    "cities_number = df_cleaned_vac.select('paciente_codigo_ibge_municipio').distinct().count()\n",
    "print(\"Numbers of cities covered in vaccine dataset: \", cities_number)"
   ]
  },
  {
   "cell_type": "markdown",
   "metadata": {
    "editable": true
   },
   "source": [
    "#### Cleaning Cities Datasets"
   ]
  },
  {
   "cell_type": "code",
   "execution_count": 15,
   "metadata": {
    "editable": true
   },
   "outputs": [],
   "source": [
    "def clean_cities_datasets(df_cities_by_sex, df_cities_by_color):\n",
    "    #Joining cities datasets and removing duplicated or unused columns\n",
    "    df_cleaned_cities = df_cities_by_sex.join(df_cities_by_color, df_cities_by_sex['Brasil e Município'] == df_cities_by_color['Brasil e Município'], \"inner\")\\\n",
    "    .drop(df_cities_by_color['Brasil e Município'])\\\n",
    "    .drop(df_cities_by_color['Situação do domicílio'])\\\n",
    "    .drop(df_cities_by_color['Grupo de idade'])\\\n",
    "    .drop(df_cities_by_color['Total'])\\\n",
    "    .drop(df_cities_by_sex['Situação do domicílio'])\\\n",
    "    .drop(df_cities_by_sex['Grupo de idade']) \n",
    "    return df_cleaned_cities\n",
    "\n",
    "df_cleaned_cities = clean_cities_datasets(df_cities_by_sex, df_cities_by_color)"
   ]
  },
  {
   "cell_type": "code",
   "execution_count": 16,
   "metadata": {
    "editable": true
   },
   "outputs": [
    {
     "data": {
      "text/html": [
       "<div>\n",
       "<style scoped>\n",
       "    .dataframe tbody tr th:only-of-type {\n",
       "        vertical-align: middle;\n",
       "    }\n",
       "\n",
       "    .dataframe tbody tr th {\n",
       "        vertical-align: top;\n",
       "    }\n",
       "\n",
       "    .dataframe thead th {\n",
       "        text-align: right;\n",
       "    }\n",
       "</style>\n",
       "<table border=\"1\" class=\"dataframe\">\n",
       "  <thead>\n",
       "    <tr style=\"text-align: right;\">\n",
       "      <th></th>\n",
       "      <th>Brasil e Município</th>\n",
       "      <th>Total</th>\n",
       "      <th>Homens</th>\n",
       "      <th>Mulheres</th>\n",
       "      <th>Branca</th>\n",
       "      <th>Preta</th>\n",
       "      <th>Amarela</th>\n",
       "      <th>Parda</th>\n",
       "      <th>Indígena</th>\n",
       "      <th>Sem declaração</th>\n",
       "    </tr>\n",
       "  </thead>\n",
       "  <tbody>\n",
       "    <tr>\n",
       "      <th>0</th>\n",
       "      <td>Brasil</td>\n",
       "      <td>190755799</td>\n",
       "      <td>93406990</td>\n",
       "      <td>97348809</td>\n",
       "      <td>90621281</td>\n",
       "      <td>14351162</td>\n",
       "      <td>2105353</td>\n",
       "      <td>82820452</td>\n",
       "      <td>821501</td>\n",
       "      <td>36051</td>\n",
       "    </tr>\n",
       "    <tr>\n",
       "      <th>1</th>\n",
       "      <td>Alta Floresta D'Oeste (RO)</td>\n",
       "      <td>24392</td>\n",
       "      <td>12656</td>\n",
       "      <td>11736</td>\n",
       "      <td>10583</td>\n",
       "      <td>1094</td>\n",
       "      <td>96</td>\n",
       "      <td>12122</td>\n",
       "      <td>497</td>\n",
       "      <td>-</td>\n",
       "    </tr>\n",
       "    <tr>\n",
       "      <th>2</th>\n",
       "      <td>Ariquemes (RO)</td>\n",
       "      <td>90353</td>\n",
       "      <td>45543</td>\n",
       "      <td>44810</td>\n",
       "      <td>32025</td>\n",
       "      <td>7810</td>\n",
       "      <td>1916</td>\n",
       "      <td>48505</td>\n",
       "      <td>97</td>\n",
       "      <td>-</td>\n",
       "    </tr>\n",
       "    <tr>\n",
       "      <th>3</th>\n",
       "      <td>Cabixi (RO)</td>\n",
       "      <td>6313</td>\n",
       "      <td>3266</td>\n",
       "      <td>3047</td>\n",
       "      <td>2918</td>\n",
       "      <td>465</td>\n",
       "      <td>101</td>\n",
       "      <td>2827</td>\n",
       "      <td>3</td>\n",
       "      <td>-</td>\n",
       "    </tr>\n",
       "    <tr>\n",
       "      <th>4</th>\n",
       "      <td>Cacoal (RO)</td>\n",
       "      <td>78574</td>\n",
       "      <td>39124</td>\n",
       "      <td>39450</td>\n",
       "      <td>32837</td>\n",
       "      <td>4534</td>\n",
       "      <td>1023</td>\n",
       "      <td>38714</td>\n",
       "      <td>1467</td>\n",
       "      <td>-</td>\n",
       "    </tr>\n",
       "  </tbody>\n",
       "</table>\n",
       "</div>"
      ],
      "text/plain": [
       "           Brasil e Município      Total    Homens  Mulheres    Branca  \\\n",
       "0                      Brasil  190755799  93406990  97348809  90621281   \n",
       "1  Alta Floresta D'Oeste (RO)      24392     12656     11736     10583   \n",
       "2              Ariquemes (RO)      90353     45543     44810     32025   \n",
       "3                 Cabixi (RO)       6313      3266      3047      2918   \n",
       "4                 Cacoal (RO)      78574     39124     39450     32837   \n",
       "\n",
       "      Preta  Amarela     Parda Indígena Sem declaração  \n",
       "0  14351162  2105353  82820452   821501          36051  \n",
       "1      1094       96     12122      497              -  \n",
       "2      7810     1916     48505       97              -  \n",
       "3       465      101      2827        3              -  \n",
       "4      4534     1023     38714     1467              -  "
      ]
     },
     "execution_count": 16,
     "metadata": {},
     "output_type": "execute_result"
    }
   ],
   "source": [
    "df_cleaned_cities.limit(5).toPandas()"
   ]
  },
  {
   "cell_type": "code",
   "execution_count": 17,
   "metadata": {
    "editable": true
   },
   "outputs": [
    {
     "data": {
      "text/html": [
       "<div>\n",
       "<style scoped>\n",
       "    .dataframe tbody tr th:only-of-type {\n",
       "        vertical-align: middle;\n",
       "    }\n",
       "\n",
       "    .dataframe tbody tr th {\n",
       "        vertical-align: top;\n",
       "    }\n",
       "\n",
       "    .dataframe thead th {\n",
       "        text-align: right;\n",
       "    }\n",
       "</style>\n",
       "<table border=\"1\" class=\"dataframe\">\n",
       "  <thead>\n",
       "    <tr style=\"text-align: right;\">\n",
       "      <th></th>\n",
       "      <th>Total</th>\n",
       "      <th>Homens</th>\n",
       "      <th>Mulheres</th>\n",
       "      <th>Branca</th>\n",
       "      <th>Preta</th>\n",
       "      <th>Amarela</th>\n",
       "      <th>Parda</th>\n",
       "      <th>Indígena</th>\n",
       "      <th>Sem declaração</th>\n",
       "      <th>City</th>\n",
       "      <th>State</th>\n",
       "    </tr>\n",
       "  </thead>\n",
       "  <tbody>\n",
       "    <tr>\n",
       "      <th>0</th>\n",
       "      <td>190755799</td>\n",
       "      <td>93406990</td>\n",
       "      <td>97348809</td>\n",
       "      <td>90621281</td>\n",
       "      <td>14351162</td>\n",
       "      <td>2105353</td>\n",
       "      <td>82820452</td>\n",
       "      <td>821501</td>\n",
       "      <td>36051</td>\n",
       "      <td>Brasil</td>\n",
       "      <td>None</td>\n",
       "    </tr>\n",
       "    <tr>\n",
       "      <th>1</th>\n",
       "      <td>24392</td>\n",
       "      <td>12656</td>\n",
       "      <td>11736</td>\n",
       "      <td>10583</td>\n",
       "      <td>1094</td>\n",
       "      <td>96</td>\n",
       "      <td>12122</td>\n",
       "      <td>497</td>\n",
       "      <td>-</td>\n",
       "      <td>Alta Floresta D'Oeste</td>\n",
       "      <td>RO</td>\n",
       "    </tr>\n",
       "    <tr>\n",
       "      <th>2</th>\n",
       "      <td>90353</td>\n",
       "      <td>45543</td>\n",
       "      <td>44810</td>\n",
       "      <td>32025</td>\n",
       "      <td>7810</td>\n",
       "      <td>1916</td>\n",
       "      <td>48505</td>\n",
       "      <td>97</td>\n",
       "      <td>-</td>\n",
       "      <td>Ariquemes</td>\n",
       "      <td>RO</td>\n",
       "    </tr>\n",
       "    <tr>\n",
       "      <th>3</th>\n",
       "      <td>6313</td>\n",
       "      <td>3266</td>\n",
       "      <td>3047</td>\n",
       "      <td>2918</td>\n",
       "      <td>465</td>\n",
       "      <td>101</td>\n",
       "      <td>2827</td>\n",
       "      <td>3</td>\n",
       "      <td>-</td>\n",
       "      <td>Cabixi</td>\n",
       "      <td>RO</td>\n",
       "    </tr>\n",
       "    <tr>\n",
       "      <th>4</th>\n",
       "      <td>78574</td>\n",
       "      <td>39124</td>\n",
       "      <td>39450</td>\n",
       "      <td>32837</td>\n",
       "      <td>4534</td>\n",
       "      <td>1023</td>\n",
       "      <td>38714</td>\n",
       "      <td>1467</td>\n",
       "      <td>-</td>\n",
       "      <td>Cacoal</td>\n",
       "      <td>RO</td>\n",
       "    </tr>\n",
       "  </tbody>\n",
       "</table>\n",
       "</div>"
      ],
      "text/plain": [
       "       Total    Homens  Mulheres    Branca     Preta  Amarela     Parda  \\\n",
       "0  190755799  93406990  97348809  90621281  14351162  2105353  82820452   \n",
       "1      24392     12656     11736     10583      1094       96     12122   \n",
       "2      90353     45543     44810     32025      7810     1916     48505   \n",
       "3       6313      3266      3047      2918       465      101      2827   \n",
       "4      78574     39124     39450     32837      4534     1023     38714   \n",
       "\n",
       "  Indígena Sem declaração                   City State  \n",
       "0   821501          36051                 Brasil  None  \n",
       "1      497              -  Alta Floresta D'Oeste    RO  \n",
       "2       97              -              Ariquemes    RO  \n",
       "3        3              -                 Cabixi    RO  \n",
       "4     1467              -                 Cacoal    RO  "
      ]
     },
     "execution_count": 17,
     "metadata": {},
     "output_type": "execute_result"
    }
   ],
   "source": [
    "def split_city_state(df_cleaned_cities):\n",
    "    #Separating column that contains City and State name in 2 different columns\n",
    "    df_cleaned_cities = df_cleaned_cities.withColumn('City', split(df_cleaned_cities['Brasil e Município'], ' \\(').getItem(0)) \\\n",
    "           .withColumn('State', split(df_cleaned_cities['Brasil e Município'], ' \\(').getItem(1))\n",
    "    df_cleaned_cities = df_cleaned_cities.withColumn('State', split(df_cleaned_cities['State'], '\\)').getItem(0))\n",
    "    df_cleaned_cities = df_cleaned_cities.drop(df_cleaned_cities['Brasil e Município'])\n",
    "    return df_cleaned_cities\n",
    "\n",
    "df_cleaned_cities = split_city_state(df_cleaned_cities)\n",
    "df_cleaned_cities.limit(5).toPandas()"
   ]
  },
  {
   "cell_type": "code",
   "execution_count": 18,
   "metadata": {
    "editable": true
   },
   "outputs": [
    {
     "name": "stdout",
     "output_type": "stream",
     "text": [
      "root\n",
      " |-- Total: string (nullable = true)\n",
      " |-- Homens: string (nullable = true)\n",
      " |-- Mulheres: string (nullable = true)\n",
      " |-- Branca: string (nullable = true)\n",
      " |-- Preta: string (nullable = true)\n",
      " |-- Amarela: string (nullable = true)\n",
      " |-- Parda: string (nullable = true)\n",
      " |-- Indígena: string (nullable = true)\n",
      " |-- Sem declaração: string (nullable = true)\n",
      " |-- City: string (nullable = true)\n",
      " |-- State: string (nullable = true)\n",
      "\n"
     ]
    }
   ],
   "source": [
    "df_cleaned_cities.printSchema()"
   ]
  },
  {
   "cell_type": "code",
   "execution_count": 19,
   "metadata": {
    "editable": true
   },
   "outputs": [
    {
     "data": {
      "text/html": [
       "<div>\n",
       "<style scoped>\n",
       "    .dataframe tbody tr th:only-of-type {\n",
       "        vertical-align: middle;\n",
       "    }\n",
       "\n",
       "    .dataframe tbody tr th {\n",
       "        vertical-align: top;\n",
       "    }\n",
       "\n",
       "    .dataframe thead th {\n",
       "        text-align: right;\n",
       "    }\n",
       "</style>\n",
       "<table border=\"1\" class=\"dataframe\">\n",
       "  <thead>\n",
       "    <tr style=\"text-align: right;\">\n",
       "      <th></th>\n",
       "      <th>Total</th>\n",
       "      <th>Homens</th>\n",
       "      <th>Mulheres</th>\n",
       "      <th>Branca</th>\n",
       "      <th>Preta</th>\n",
       "      <th>Amarela</th>\n",
       "      <th>Parda</th>\n",
       "      <th>Indígena</th>\n",
       "      <th>Sem declaração</th>\n",
       "      <th>City</th>\n",
       "      <th>State</th>\n",
       "    </tr>\n",
       "  </thead>\n",
       "  <tbody>\n",
       "    <tr>\n",
       "      <th>0</th>\n",
       "      <td>0</td>\n",
       "      <td>0</td>\n",
       "      <td>0</td>\n",
       "      <td>0</td>\n",
       "      <td>0</td>\n",
       "      <td>0</td>\n",
       "      <td>0</td>\n",
       "      <td>0</td>\n",
       "      <td>0</td>\n",
       "      <td>0</td>\n",
       "      <td>1</td>\n",
       "    </tr>\n",
       "  </tbody>\n",
       "</table>\n",
       "</div>"
      ],
      "text/plain": [
       "   Total  Homens  Mulheres  Branca  Preta  Amarela  Parda  Indígena  \\\n",
       "0      0       0         0       0      0        0      0         0   \n",
       "\n",
       "   Sem declaração  City  State  \n",
       "0               0     0      1  "
      ]
     },
     "execution_count": 19,
     "metadata": {},
     "output_type": "execute_result"
    }
   ],
   "source": [
    "# Count number of null values per collumns\n",
    "df_cleaned_cities.select([count(when(col(c).isNull(), c)).alias(c) for c in df_cleaned_cities.columns]).toPandas()"
   ]
  },
  {
   "cell_type": "code",
   "execution_count": 20,
   "metadata": {
    "editable": true
   },
   "outputs": [
    {
     "name": "stdout",
     "output_type": "stream",
     "text": [
      "root\n",
      " |-- Total: integer (nullable = true)\n",
      " |-- Homens: integer (nullable = true)\n",
      " |-- Mulheres: integer (nullable = true)\n",
      " |-- Branca: integer (nullable = true)\n",
      " |-- Preta: integer (nullable = true)\n",
      " |-- Amarela: integer (nullable = true)\n",
      " |-- Parda: integer (nullable = true)\n",
      " |-- Indígena: integer (nullable = true)\n",
      " |-- Sem declaração: integer (nullable = true)\n",
      " |-- City: string (nullable = true)\n",
      " |-- State: string (nullable = true)\n",
      "\n"
     ]
    }
   ],
   "source": [
    "def fix_column_type_cities(df_cleaned_cities):\n",
    "    #Provide the correct type for all columns\n",
    "    df_cleaned_cities = perform_column_cast(df_cleaned_cities, \"Total\", 'int')\n",
    "    df_cleaned_cities = perform_column_cast(df_cleaned_cities, \"Homens\", 'int')\n",
    "    df_cleaned_cities = perform_column_cast(df_cleaned_cities, \"Mulheres\", 'int')\n",
    "    df_cleaned_cities = perform_column_cast(df_cleaned_cities, \"Branca\", 'int')\n",
    "    df_cleaned_cities = perform_column_cast(df_cleaned_cities, \"Preta\", 'int')\n",
    "    df_cleaned_cities = perform_column_cast(df_cleaned_cities, \"Amarela\", 'int')\n",
    "    df_cleaned_cities = perform_column_cast(df_cleaned_cities, \"Parda\", 'int')\n",
    "    df_cleaned_cities = perform_column_cast(df_cleaned_cities, \"Indígena\", 'int')\n",
    "    df_cleaned_cities = perform_column_cast(df_cleaned_cities, \"Sem declaração\", 'int')\n",
    "    return df_cleaned_cities\n",
    "\n",
    "df_cleaned_cities = fix_column_type_cities(df_cleaned_cities)\n",
    "df_cleaned_cities.printSchema()"
   ]
  },
  {
   "cell_type": "code",
   "execution_count": 21,
   "metadata": {
    "editable": true
   },
   "outputs": [
    {
     "name": "stdout",
     "output_type": "stream",
     "text": [
      "Numbers of cities covered in cities dataset:  5566\n"
     ]
    }
   ],
   "source": [
    "# Checking how many different cities we have in the cities dataset\n",
    "cities_number = df_cleaned_cities.select('City').count()\n",
    "print(\"Numbers of cities covered in cities dataset: \", cities_number)"
   ]
  },
  {
   "cell_type": "markdown",
   "metadata": {
    "editable": true
   },
   "source": [
    "### Step 3: Define the Data Model\n",
    "#### 3.1 Conceptual Data Model\n",
    "The model will be divided in three tables using a snowflake schema, because of its advantages:\n",
    "* Better data quality (data is more structured, so data integrity problems are reduced)\n",
    "* Less disk space is used then in a denormalized model\n",
    "\n",
    "The relation between the tables is done by using the city name and vaccination date. \n",
    "So, in this way we can keep each entity in a table which it's better to populate and visualize. Also, we can avoid cases of repeated data.\n",
    "\n",
    "- Cities\n",
    "- Vaccines\n",
    "- Calendar"
   ]
  },
  {
   "cell_type": "code",
   "execution_count": 22,
   "metadata": {
    "editable": true
   },
   "outputs": [
    {
     "data": {
      "image/png": "[encoded data removed]",
      "text/plain": [
       "<IPython.core.display.Image object>"
      ]
     },
     "execution_count": 22,
     "metadata": {},
     "output_type": "execute_result"
    }
   ],
   "source": [
    "from IPython.display import Image\n",
    "Image(filename='datamodel.png')"
   ]
  },
  {
   "cell_type": "markdown",
   "metadata": {
    "editable": true
   },
   "source": [
    "#### 3.2 Mapping Out Data Pipelines\n",
    "The data was cleaned previously, now we will insert into parquet files and make a join to enrich the vaccine data with more information."
   ]
  },
  {
   "cell_type": "markdown",
   "metadata": {
    "editable": true
   },
   "source": [
    "### Step 4: Run Pipelines to Model the Data \n",
    "#### 4.1 Create the data model"
   ]
  },
  {
   "cell_type": "code",
   "execution_count": 23,
   "metadata": {
    "editable": true
   },
   "outputs": [],
   "source": [
    "#output folder to save parquest files\n",
    "output_folder = \"output/\"\n",
    "\n",
    "def save_to_parquet(dataframe, parquet_file_path, partition_columns, mode=\"overwrite\"):\n",
    "    dataframe.write.parquet(parquet_file_path, partitionBy=partition_columns, mode=mode)"
   ]
  },
  {
   "cell_type": "code",
   "execution_count": 24,
   "metadata": {
    "editable": true
   },
   "outputs": [],
   "source": [
    "def create_calendar_table(df_cleaned_vac):\n",
    "    # Make the calendar table, getting the date and breaking down in more specific columns\n",
    "    df_calendar = df_cleaned_vac.select(col('data_aplicacao')).withColumn('date', df_cleaned_vac.data_aplicacao.cast(DateType())).distinct()\n",
    "    df_calendar = df_calendar.withColumn('day', dayofmonth('date'))\n",
    "    df_calendar = df_calendar.withColumn('week', weekofyear('date'))\n",
    "    df_calendar = df_calendar.withColumn('month', month('date'))\n",
    "    df_calendar = df_calendar.withColumn('year', year('date'))\n",
    "    df_calendar = df_calendar.withColumn('weekday', dayofweek('date'))\n",
    "    #remove duplicated column\n",
    "    df_calendar = df_calendar.drop(df_calendar.data_aplicacao)\n",
    "    return df_calendar\n",
    "\n",
    "df_calendar = create_calendar_table(df_cleaned_vac)\n",
    "df_calendar.limit(5).toPandas()\n",
    "\n",
    "partition_columns = ['year', 'month', 'week']\n",
    "save_to_parquet(df_calendar, output_folder + \"calendar\", partition_columns)"
   ]
  },
  {
   "cell_type": "code",
   "execution_count": 25,
   "metadata": {
    "editable": true
   },
   "outputs": [],
   "source": [
    "# Join vaccines info with city info\n",
    "df_full = df_cleaned_vac.join(df_cleaned_cities, df_cleaned_vac.paciente_municipio ==  df_cleaned_cities['City'], \"inner\")"
   ]
  },
  {
   "cell_type": "code",
   "execution_count": 26,
   "metadata": {
    "editable": true
   },
   "outputs": [
    {
     "data": {
      "text/html": [
       "<div>\n",
       "<style scoped>\n",
       "    .dataframe tbody tr th:only-of-type {\n",
       "        vertical-align: middle;\n",
       "    }\n",
       "\n",
       "    .dataframe tbody tr th {\n",
       "        vertical-align: top;\n",
       "    }\n",
       "\n",
       "    .dataframe thead th {\n",
       "        text-align: right;\n",
       "    }\n",
       "</style>\n",
       "<table border=\"1\" class=\"dataframe\">\n",
       "  <thead>\n",
       "    <tr style=\"text-align: right;\">\n",
       "      <th></th>\n",
       "      <th>paciente_codigo_grupo</th>\n",
       "      <th>vacina</th>\n",
       "      <th>vacina_lote</th>\n",
       "      <th>estabelecimento_razao_social</th>\n",
       "      <th>estabelecimento</th>\n",
       "      <th>paciente_cep</th>\n",
       "      <th>estabelecimento_unidade_federativa</th>\n",
       "      <th>sistema_origem</th>\n",
       "      <th>paciente_municipio</th>\n",
       "      <th>paciente_etnia</th>\n",
       "      <th>...</th>\n",
       "      <th>Homens</th>\n",
       "      <th>Mulheres</th>\n",
       "      <th>Branca</th>\n",
       "      <th>Preta</th>\n",
       "      <th>Amarela</th>\n",
       "      <th>Parda</th>\n",
       "      <th>Indígena</th>\n",
       "      <th>Sem declaração</th>\n",
       "      <th>City</th>\n",
       "      <th>State</th>\n",
       "    </tr>\n",
       "  </thead>\n",
       "  <tbody>\n",
       "    <tr>\n",
       "      <th>0</th>\n",
       "      <td>2</td>\n",
       "      <td>Covid-19-Coronavac-Sinovac/Butantan</td>\n",
       "      <td>210013.0</td>\n",
       "      <td>PREFEITURA MUNICIPAL DE CARAUBAS</td>\n",
       "      <td>CENTRO DE SAUDE DE CARAUBAS DR JOAO MARINALDO ...</td>\n",
       "      <td>59700</td>\n",
       "      <td>RN</td>\n",
       "      <td>RN + Vacina</td>\n",
       "      <td>Apodi</td>\n",
       "      <td>Branca</td>\n",
       "      <td>...</td>\n",
       "      <td>17376</td>\n",
       "      <td>17387</td>\n",
       "      <td>15483</td>\n",
       "      <td>902</td>\n",
       "      <td>291</td>\n",
       "      <td>18087</td>\n",
       "      <td>None</td>\n",
       "      <td>None</td>\n",
       "      <td>Apodi</td>\n",
       "      <td>RN</td>\n",
       "    </tr>\n",
       "    <tr>\n",
       "      <th>1</th>\n",
       "      <td>2</td>\n",
       "      <td>Vacina Covid-19 - Covishield</td>\n",
       "      <td>NaN</td>\n",
       "      <td>PREFEITURA MUNICIPAL DE APODI</td>\n",
       "      <td>SECRETARIA MUNICIPAL DE SAUDE DE APODI</td>\n",
       "      <td>59700</td>\n",
       "      <td>RN</td>\n",
       "      <td>RN + Vacina</td>\n",
       "      <td>Apodi</td>\n",
       "      <td>Branca</td>\n",
       "      <td>...</td>\n",
       "      <td>17376</td>\n",
       "      <td>17387</td>\n",
       "      <td>15483</td>\n",
       "      <td>902</td>\n",
       "      <td>291</td>\n",
       "      <td>18087</td>\n",
       "      <td>None</td>\n",
       "      <td>None</td>\n",
       "      <td>Apodi</td>\n",
       "      <td>RN</td>\n",
       "    </tr>\n",
       "    <tr>\n",
       "      <th>2</th>\n",
       "      <td>9</td>\n",
       "      <td>Covid-19-Coronavac-Sinovac/Butantan</td>\n",
       "      <td>202009011.0</td>\n",
       "      <td>PREFEITURA MUNICIPAL DE APODI</td>\n",
       "      <td>CENTRO DE SAUDE DE APODI</td>\n",
       "      <td>59700</td>\n",
       "      <td>RN</td>\n",
       "      <td>RN + Vacina</td>\n",
       "      <td>Apodi</td>\n",
       "      <td>Branca</td>\n",
       "      <td>...</td>\n",
       "      <td>17376</td>\n",
       "      <td>17387</td>\n",
       "      <td>15483</td>\n",
       "      <td>902</td>\n",
       "      <td>291</td>\n",
       "      <td>18087</td>\n",
       "      <td>None</td>\n",
       "      <td>None</td>\n",
       "      <td>Apodi</td>\n",
       "      <td>RN</td>\n",
       "    </tr>\n",
       "    <tr>\n",
       "      <th>3</th>\n",
       "      <td>9</td>\n",
       "      <td>Covid-19-Coronavac-Sinovac/Butantan</td>\n",
       "      <td>202009011.0</td>\n",
       "      <td>PREFEITURA MUNICIPAL DE APODI</td>\n",
       "      <td>CENTRO DE SAUDE DE APODI</td>\n",
       "      <td>59700</td>\n",
       "      <td>RN</td>\n",
       "      <td>RN + Vacina</td>\n",
       "      <td>Apodi</td>\n",
       "      <td>Parda</td>\n",
       "      <td>...</td>\n",
       "      <td>17376</td>\n",
       "      <td>17387</td>\n",
       "      <td>15483</td>\n",
       "      <td>902</td>\n",
       "      <td>291</td>\n",
       "      <td>18087</td>\n",
       "      <td>None</td>\n",
       "      <td>None</td>\n",
       "      <td>Apodi</td>\n",
       "      <td>RN</td>\n",
       "    </tr>\n",
       "    <tr>\n",
       "      <th>4</th>\n",
       "      <td>2</td>\n",
       "      <td>Covid-19-Coronavac-Sinovac/Butantan</td>\n",
       "      <td>210013.0</td>\n",
       "      <td>PREFEITURA MUNICIPAL DE APODI</td>\n",
       "      <td>CENTRO DE SAUDE DE APODI</td>\n",
       "      <td>59700</td>\n",
       "      <td>RN</td>\n",
       "      <td>RN + Vacina</td>\n",
       "      <td>Apodi</td>\n",
       "      <td>Branca</td>\n",
       "      <td>...</td>\n",
       "      <td>17376</td>\n",
       "      <td>17387</td>\n",
       "      <td>15483</td>\n",
       "      <td>902</td>\n",
       "      <td>291</td>\n",
       "      <td>18087</td>\n",
       "      <td>None</td>\n",
       "      <td>None</td>\n",
       "      <td>Apodi</td>\n",
       "      <td>RN</td>\n",
       "    </tr>\n",
       "  </tbody>\n",
       "</table>\n",
       "<p>5 rows × 40 columns</p>\n",
       "</div>"
      ],
      "text/plain": [
       "   paciente_codigo_grupo                               vacina  vacina_lote  \\\n",
       "0                      2  Covid-19-Coronavac-Sinovac/Butantan     210013.0   \n",
       "1                      2         Vacina Covid-19 - Covishield          NaN   \n",
       "2                      9  Covid-19-Coronavac-Sinovac/Butantan  202009011.0   \n",
       "3                      9  Covid-19-Coronavac-Sinovac/Butantan  202009011.0   \n",
       "4                      2  Covid-19-Coronavac-Sinovac/Butantan     210013.0   \n",
       "\n",
       "       estabelecimento_razao_social  \\\n",
       "0  PREFEITURA MUNICIPAL DE CARAUBAS   \n",
       "1     PREFEITURA MUNICIPAL DE APODI   \n",
       "2     PREFEITURA MUNICIPAL DE APODI   \n",
       "3     PREFEITURA MUNICIPAL DE APODI   \n",
       "4     PREFEITURA MUNICIPAL DE APODI   \n",
       "\n",
       "                                     estabelecimento  paciente_cep  \\\n",
       "0  CENTRO DE SAUDE DE CARAUBAS DR JOAO MARINALDO ...         59700   \n",
       "1             SECRETARIA MUNICIPAL DE SAUDE DE APODI         59700   \n",
       "2                           CENTRO DE SAUDE DE APODI         59700   \n",
       "3                           CENTRO DE SAUDE DE APODI         59700   \n",
       "4                           CENTRO DE SAUDE DE APODI         59700   \n",
       "\n",
       "  estabelecimento_unidade_federativa sistema_origem paciente_municipio  \\\n",
       "0                                 RN    RN + Vacina              Apodi   \n",
       "1                                 RN    RN + Vacina              Apodi   \n",
       "2                                 RN    RN + Vacina              Apodi   \n",
       "3                                 RN    RN + Vacina              Apodi   \n",
       "4                                 RN    RN + Vacina              Apodi   \n",
       "\n",
       "  paciente_etnia  ...  Homens Mulheres  Branca  Preta Amarela  Parda  \\\n",
       "0         Branca  ...   17376    17387   15483    902     291  18087   \n",
       "1         Branca  ...   17376    17387   15483    902     291  18087   \n",
       "2         Branca  ...   17376    17387   15483    902     291  18087   \n",
       "3          Parda  ...   17376    17387   15483    902     291  18087   \n",
       "4         Branca  ...   17376    17387   15483    902     291  18087   \n",
       "\n",
       "   Indígena Sem declaração   City State  \n",
       "0      None           None  Apodi    RN  \n",
       "1      None           None  Apodi    RN  \n",
       "2      None           None  Apodi    RN  \n",
       "3      None           None  Apodi    RN  \n",
       "4      None           None  Apodi    RN  \n",
       "\n",
       "[5 rows x 40 columns]"
      ]
     },
     "execution_count": 26,
     "metadata": {},
     "output_type": "execute_result"
    }
   ],
   "source": [
    "df_full.limit(5).toPandas()"
   ]
  },
  {
   "cell_type": "code",
   "execution_count": 27,
   "metadata": {
    "editable": true
   },
   "outputs": [
    {
     "name": "stdout",
     "output_type": "stream",
     "text": [
      "root\n",
      " |-- paciente_codigo_grupo: integer (nullable = true)\n",
      " |-- vacina: string (nullable = true)\n",
      " |-- vacina_lote: integer (nullable = true)\n",
      " |-- estabelecimento_razao_social: string (nullable = true)\n",
      " |-- estabelecimento: string (nullable = true)\n",
      " |-- paciente_cep: integer (nullable = true)\n",
      " |-- estabelecimento_unidade_federativa: string (nullable = true)\n",
      " |-- sistema_origem: string (nullable = true)\n",
      " |-- paciente_municipio: string (nullable = true)\n",
      " |-- paciente_etnia: string (nullable = true)\n",
      " |-- estabelecimento_municipio: string (nullable = true)\n",
      " |-- paciente_idade: string (nullable = true)\n",
      " |-- paciente_codigo_subgrupo: integer (nullable = true)\n",
      " |-- numero_dose: integer (nullable = true)\n",
      " |-- paciente_nacionalidade: string (nullable = true)\n",
      " |-- codigo_vacina: integer (nullable = true)\n",
      " |-- estabelecimento_codigo_ibge_municipio: integer (nullable = true)\n",
      " |-- paciente_uuid: string (nullable = true)\n",
      " |-- paciente_grupo: string (nullable = true)\n",
      " |-- data_aplicacao: date (nullable = true)\n",
      " |-- documento_uuid: string (nullable = true)\n",
      " |-- paciente_sexo_biologico: string (nullable = true)\n",
      " |-- estabelecimento_codigo_cnes: integer (nullable = true)\n",
      " |-- paciente_unidade_federativa: string (nullable = true)\n",
      " |-- paciente_codigo_pais: integer (nullable = true)\n",
      " |-- paciente_pais: string (nullable = true)\n",
      " |-- paciente_codigo_ibge_municipio: integer (nullable = true)\n",
      " |-- paciente_subgrupo: string (nullable = true)\n",
      " |-- paciente_codigo_etnia: integer (nullable = true)\n",
      " |-- Total: integer (nullable = true)\n",
      " |-- Homens: integer (nullable = true)\n",
      " |-- Mulheres: integer (nullable = true)\n",
      " |-- Branca: integer (nullable = true)\n",
      " |-- Preta: integer (nullable = true)\n",
      " |-- Amarela: integer (nullable = true)\n",
      " |-- Parda: integer (nullable = true)\n",
      " |-- Indígena: integer (nullable = true)\n",
      " |-- Sem declaração: integer (nullable = true)\n",
      " |-- City: string (nullable = true)\n",
      " |-- State: string (nullable = true)\n",
      "\n"
     ]
    }
   ],
   "source": [
    "df_full.printSchema()"
   ]
  },
  {
   "cell_type": "code",
   "execution_count": 28,
   "metadata": {
    "editable": true
   },
   "outputs": [
    {
     "data": {
      "text/html": [
       "<div>\n",
       "<style scoped>\n",
       "    .dataframe tbody tr th:only-of-type {\n",
       "        vertical-align: middle;\n",
       "    }\n",
       "\n",
       "    .dataframe tbody tr th {\n",
       "        vertical-align: top;\n",
       "    }\n",
       "\n",
       "    .dataframe thead th {\n",
       "        text-align: right;\n",
       "    }\n",
       "</style>\n",
       "<table border=\"1\" class=\"dataframe\">\n",
       "  <thead>\n",
       "    <tr style=\"text-align: right;\">\n",
       "      <th></th>\n",
       "      <th>City</th>\n",
       "      <th>State</th>\n",
       "      <th>Total</th>\n",
       "      <th>Homens</th>\n",
       "      <th>Mulheres</th>\n",
       "      <th>Branca</th>\n",
       "      <th>Preta</th>\n",
       "      <th>Amarela</th>\n",
       "      <th>Parda</th>\n",
       "      <th>Indígena</th>\n",
       "    </tr>\n",
       "  </thead>\n",
       "  <tbody>\n",
       "    <tr>\n",
       "      <th>0</th>\n",
       "      <td>Apodi</td>\n",
       "      <td>RN</td>\n",
       "      <td>34763</td>\n",
       "      <td>17376</td>\n",
       "      <td>17387</td>\n",
       "      <td>15483</td>\n",
       "      <td>902</td>\n",
       "      <td>291</td>\n",
       "      <td>18087</td>\n",
       "      <td>NaN</td>\n",
       "    </tr>\n",
       "    <tr>\n",
       "      <th>1</th>\n",
       "      <td>Araruama</td>\n",
       "      <td>RJ</td>\n",
       "      <td>112008</td>\n",
       "      <td>54283</td>\n",
       "      <td>57725</td>\n",
       "      <td>49932</td>\n",
       "      <td>15156</td>\n",
       "      <td>453</td>\n",
       "      <td>46272</td>\n",
       "      <td>173.0</td>\n",
       "    </tr>\n",
       "    <tr>\n",
       "      <th>2</th>\n",
       "      <td>Assis Brasil</td>\n",
       "      <td>AC</td>\n",
       "      <td>6072</td>\n",
       "      <td>3091</td>\n",
       "      <td>2981</td>\n",
       "      <td>1638</td>\n",
       "      <td>277</td>\n",
       "      <td>140</td>\n",
       "      <td>3486</td>\n",
       "      <td>531.0</td>\n",
       "    </tr>\n",
       "    <tr>\n",
       "      <th>3</th>\n",
       "      <td>Benedito Leite</td>\n",
       "      <td>MA</td>\n",
       "      <td>5469</td>\n",
       "      <td>2855</td>\n",
       "      <td>2614</td>\n",
       "      <td>1483</td>\n",
       "      <td>283</td>\n",
       "      <td>10</td>\n",
       "      <td>3691</td>\n",
       "      <td>2.0</td>\n",
       "    </tr>\n",
       "    <tr>\n",
       "      <th>4</th>\n",
       "      <td>Boa Esperança do Sul</td>\n",
       "      <td>SP</td>\n",
       "      <td>13645</td>\n",
       "      <td>6875</td>\n",
       "      <td>6770</td>\n",
       "      <td>8217</td>\n",
       "      <td>502</td>\n",
       "      <td>39</td>\n",
       "      <td>4887</td>\n",
       "      <td>NaN</td>\n",
       "    </tr>\n",
       "  </tbody>\n",
       "</table>\n",
       "</div>"
      ],
      "text/plain": [
       "                   City State   Total  Homens  Mulheres  Branca  Preta  \\\n",
       "0                 Apodi    RN   34763   17376     17387   15483    902   \n",
       "1              Araruama    RJ  112008   54283     57725   49932  15156   \n",
       "2          Assis Brasil    AC    6072    3091      2981    1638    277   \n",
       "3        Benedito Leite    MA    5469    2855      2614    1483    283   \n",
       "4  Boa Esperança do Sul    SP   13645    6875      6770    8217    502   \n",
       "\n",
       "   Amarela  Parda  Indígena  \n",
       "0      291  18087       NaN  \n",
       "1      453  46272     173.0  \n",
       "2      140   3486     531.0  \n",
       "3       10   3691       2.0  \n",
       "4       39   4887       NaN  "
      ]
     },
     "execution_count": 28,
     "metadata": {},
     "output_type": "execute_result"
    }
   ],
   "source": [
    "df_cities = df_full.select(['City', 'State', 'Total', 'Homens', 'Mulheres', 'Branca', 'Preta', 'Amarela', 'Parda', 'Indígena']).distinct()\n",
    "df_cities.limit(5).toPandas()"
   ]
  },
  {
   "cell_type": "code",
   "execution_count": 29,
   "metadata": {
    "editable": true
   },
   "outputs": [
    {
     "data": {
      "text/html": [
       "<div>\n",
       "<style scoped>\n",
       "    .dataframe tbody tr th:only-of-type {\n",
       "        vertical-align: middle;\n",
       "    }\n",
       "\n",
       "    .dataframe tbody tr th {\n",
       "        vertical-align: top;\n",
       "    }\n",
       "\n",
       "    .dataframe thead th {\n",
       "        text-align: right;\n",
       "    }\n",
       "</style>\n",
       "<table border=\"1\" class=\"dataframe\">\n",
       "  <thead>\n",
       "    <tr style=\"text-align: right;\">\n",
       "      <th></th>\n",
       "      <th>city_name</th>\n",
       "      <th>state_name</th>\n",
       "      <th>total_population</th>\n",
       "      <th>masc_population</th>\n",
       "      <th>fem_population</th>\n",
       "      <th>white_population</th>\n",
       "      <th>black_population</th>\n",
       "      <th>yellow_population</th>\n",
       "      <th>brown_population</th>\n",
       "      <th>indigenous_population</th>\n",
       "    </tr>\n",
       "  </thead>\n",
       "  <tbody>\n",
       "    <tr>\n",
       "      <th>0</th>\n",
       "      <td>Apodi</td>\n",
       "      <td>RN</td>\n",
       "      <td>34763</td>\n",
       "      <td>17376</td>\n",
       "      <td>17387</td>\n",
       "      <td>15483</td>\n",
       "      <td>902</td>\n",
       "      <td>291</td>\n",
       "      <td>18087</td>\n",
       "      <td>NaN</td>\n",
       "    </tr>\n",
       "    <tr>\n",
       "      <th>1</th>\n",
       "      <td>Araruama</td>\n",
       "      <td>RJ</td>\n",
       "      <td>112008</td>\n",
       "      <td>54283</td>\n",
       "      <td>57725</td>\n",
       "      <td>49932</td>\n",
       "      <td>15156</td>\n",
       "      <td>453</td>\n",
       "      <td>46272</td>\n",
       "      <td>173.0</td>\n",
       "    </tr>\n",
       "    <tr>\n",
       "      <th>2</th>\n",
       "      <td>Assis Brasil</td>\n",
       "      <td>AC</td>\n",
       "      <td>6072</td>\n",
       "      <td>3091</td>\n",
       "      <td>2981</td>\n",
       "      <td>1638</td>\n",
       "      <td>277</td>\n",
       "      <td>140</td>\n",
       "      <td>3486</td>\n",
       "      <td>531.0</td>\n",
       "    </tr>\n",
       "    <tr>\n",
       "      <th>3</th>\n",
       "      <td>Benedito Leite</td>\n",
       "      <td>MA</td>\n",
       "      <td>5469</td>\n",
       "      <td>2855</td>\n",
       "      <td>2614</td>\n",
       "      <td>1483</td>\n",
       "      <td>283</td>\n",
       "      <td>10</td>\n",
       "      <td>3691</td>\n",
       "      <td>2.0</td>\n",
       "    </tr>\n",
       "    <tr>\n",
       "      <th>4</th>\n",
       "      <td>Boa Esperança do Sul</td>\n",
       "      <td>SP</td>\n",
       "      <td>13645</td>\n",
       "      <td>6875</td>\n",
       "      <td>6770</td>\n",
       "      <td>8217</td>\n",
       "      <td>502</td>\n",
       "      <td>39</td>\n",
       "      <td>4887</td>\n",
       "      <td>NaN</td>\n",
       "    </tr>\n",
       "  </tbody>\n",
       "</table>\n",
       "</div>"
      ],
      "text/plain": [
       "              city_name state_name  total_population  masc_population  \\\n",
       "0                 Apodi         RN             34763            17376   \n",
       "1              Araruama         RJ            112008            54283   \n",
       "2          Assis Brasil         AC              6072             3091   \n",
       "3        Benedito Leite         MA              5469             2855   \n",
       "4  Boa Esperança do Sul         SP             13645             6875   \n",
       "\n",
       "   fem_population  white_population  black_population  yellow_population  \\\n",
       "0           17387             15483               902                291   \n",
       "1           57725             49932             15156                453   \n",
       "2            2981              1638               277                140   \n",
       "3            2614              1483               283                 10   \n",
       "4            6770              8217               502                 39   \n",
       "\n",
       "   brown_population  indigenous_population  \n",
       "0             18087                    NaN  \n",
       "1             46272                  173.0  \n",
       "2              3486                  531.0  \n",
       "3              3691                    2.0  \n",
       "4              4887                    NaN  "
      ]
     },
     "execution_count": 29,
     "metadata": {},
     "output_type": "execute_result"
    }
   ],
   "source": [
    "def create_cities_table(df_cities):\n",
    "    #Rename columns to match datamodel\n",
    "    df_cities = df_cities.withColumnRenamed(\"City\", \"city_name\")\n",
    "    df_cities = df_cities.withColumnRenamed(\"State\", \"state_name\")\n",
    "    df_cities = df_cities.withColumnRenamed(\"Total\", \"total_population\")\n",
    "    df_cities = df_cities.withColumnRenamed(\"Homens\", \"masc_population\")\n",
    "    df_cities = df_cities.withColumnRenamed(\"Mulheres\", \"fem_population\")\n",
    "    df_cities = df_cities.withColumnRenamed(\"Branca\", \"white_population\")\n",
    "    df_cities = df_cities.withColumnRenamed(\"Preta\", \"black_population\")\n",
    "    df_cities = df_cities.withColumnRenamed(\"Amarela\", \"yellow_population\")\n",
    "    df_cities = df_cities.withColumnRenamed(\"Parda\", \"brown_population\")\n",
    "    df_cities = df_cities.withColumnRenamed(\"Indígena\", \"indigenous_population\")\n",
    "    return df_cities\n",
    "\n",
    "df_cities = create_cities_table(df_cities)\n",
    "df_cities.limit(5).toPandas()"
   ]
  },
  {
   "cell_type": "code",
   "execution_count": 30,
   "metadata": {
    "editable": true
   },
   "outputs": [],
   "source": [
    "#save cities info to parquet \n",
    "partition_columns = ['state_name', 'city_name']\n",
    "save_to_parquet(df_cities, output_folder + \"cities\", partition_columns)"
   ]
  },
  {
   "cell_type": "code",
   "execution_count": 31,
   "metadata": {
    "editable": true
   },
   "outputs": [
    {
     "data": {
      "text/plain": [
       "645"
      ]
     },
     "execution_count": 31,
     "metadata": {},
     "output_type": "execute_result"
    }
   ],
   "source": [
    "df_cities.filter(col('State')=='SP').count()"
   ]
  },
  {
   "cell_type": "code",
   "execution_count": 32,
   "metadata": {
    "editable": true
   },
   "outputs": [
    {
     "data": {
      "text/html": [
       "<div>\n",
       "<style scoped>\n",
       "    .dataframe tbody tr th:only-of-type {\n",
       "        vertical-align: middle;\n",
       "    }\n",
       "\n",
       "    .dataframe tbody tr th {\n",
       "        vertical-align: top;\n",
       "    }\n",
       "\n",
       "    .dataframe thead th {\n",
       "        text-align: right;\n",
       "    }\n",
       "</style>\n",
       "<table border=\"1\" class=\"dataframe\">\n",
       "  <thead>\n",
       "    <tr style=\"text-align: right;\">\n",
       "      <th></th>\n",
       "      <th>paciente_uuid</th>\n",
       "      <th>vacina</th>\n",
       "      <th>data_aplicacao</th>\n",
       "      <th>estabelecimento</th>\n",
       "      <th>paciente_municipio</th>\n",
       "      <th>paciente_sexo_biologico</th>\n",
       "      <th>paciente_etnia</th>\n",
       "    </tr>\n",
       "  </thead>\n",
       "  <tbody>\n",
       "    <tr>\n",
       "      <th>0</th>\n",
       "      <td>478973ee-c1c0-5b63-80ed-9ca773a066da</td>\n",
       "      <td>Covid-19-Coronavac-Sinovac/Butantan</td>\n",
       "      <td>2021-02-12</td>\n",
       "      <td>CENTRO DE SAUDE II DE BROTAS</td>\n",
       "      <td>Boa Esperança do Sul</td>\n",
       "      <td>M</td>\n",
       "      <td>Branca</td>\n",
       "    </tr>\n",
       "    <tr>\n",
       "      <th>1</th>\n",
       "      <td>2858d7d5-7857-5b4e-a12d-9b80fca9c263</td>\n",
       "      <td>Covid-19-Coronavac-Sinovac/Butantan</td>\n",
       "      <td>2021-02-12</td>\n",
       "      <td>CENTRO DE SAUDE NOVA ESPERANCA BOA ESPERANCA D...</td>\n",
       "      <td>Boa Esperança do Sul</td>\n",
       "      <td>F</td>\n",
       "      <td>Amarela</td>\n",
       "    </tr>\n",
       "    <tr>\n",
       "      <th>2</th>\n",
       "      <td>c3ac7ab9-d08b-55cb-8e56-81cdac8f363a</td>\n",
       "      <td>Covid-19-Coronavac-Sinovac/Butantan</td>\n",
       "      <td>2021-02-08</td>\n",
       "      <td>CENTRO DE SAUDE III BOA ESPERANCA DO SUL</td>\n",
       "      <td>Boa Esperança do Sul</td>\n",
       "      <td>F</td>\n",
       "      <td>Branca</td>\n",
       "    </tr>\n",
       "    <tr>\n",
       "      <th>3</th>\n",
       "      <td>8aca8c9c-4bbb-5c2d-b614-3f8d8205abcd</td>\n",
       "      <td>Covid-19-Coronavac-Sinovac/Butantan</td>\n",
       "      <td>2021-02-12</td>\n",
       "      <td>CENTRO DE SAUDE NOVA ESPERANCA BOA ESPERANCA D...</td>\n",
       "      <td>Boa Esperança do Sul</td>\n",
       "      <td>F</td>\n",
       "      <td>Branca</td>\n",
       "    </tr>\n",
       "    <tr>\n",
       "      <th>4</th>\n",
       "      <td>f0f84435-f601-5b02-b26a-52a71f0df619</td>\n",
       "      <td>Covid-19-Coronavac-Sinovac/Butantan</td>\n",
       "      <td>2021-02-12</td>\n",
       "      <td>USF PALMEIRAS BOA ESPERANCA DO SUL</td>\n",
       "      <td>Boa Esperança do Sul</td>\n",
       "      <td>F</td>\n",
       "      <td>Branca</td>\n",
       "    </tr>\n",
       "  </tbody>\n",
       "</table>\n",
       "</div>"
      ],
      "text/plain": [
       "                          paciente_uuid                               vacina  \\\n",
       "0  478973ee-c1c0-5b63-80ed-9ca773a066da  Covid-19-Coronavac-Sinovac/Butantan   \n",
       "1  2858d7d5-7857-5b4e-a12d-9b80fca9c263  Covid-19-Coronavac-Sinovac/Butantan   \n",
       "2  c3ac7ab9-d08b-55cb-8e56-81cdac8f363a  Covid-19-Coronavac-Sinovac/Butantan   \n",
       "3  8aca8c9c-4bbb-5c2d-b614-3f8d8205abcd  Covid-19-Coronavac-Sinovac/Butantan   \n",
       "4  f0f84435-f601-5b02-b26a-52a71f0df619  Covid-19-Coronavac-Sinovac/Butantan   \n",
       "\n",
       "  data_aplicacao                                    estabelecimento  \\\n",
       "0     2021-02-12                       CENTRO DE SAUDE II DE BROTAS   \n",
       "1     2021-02-12  CENTRO DE SAUDE NOVA ESPERANCA BOA ESPERANCA D...   \n",
       "2     2021-02-08           CENTRO DE SAUDE III BOA ESPERANCA DO SUL   \n",
       "3     2021-02-12  CENTRO DE SAUDE NOVA ESPERANCA BOA ESPERANCA D...   \n",
       "4     2021-02-12                 USF PALMEIRAS BOA ESPERANCA DO SUL   \n",
       "\n",
       "     paciente_municipio paciente_sexo_biologico paciente_etnia  \n",
       "0  Boa Esperança do Sul                       M         Branca  \n",
       "1  Boa Esperança do Sul                       F        Amarela  \n",
       "2  Boa Esperança do Sul                       F         Branca  \n",
       "3  Boa Esperança do Sul                       F         Branca  \n",
       "4  Boa Esperança do Sul                       F         Branca  "
      ]
     },
     "execution_count": 32,
     "metadata": {},
     "output_type": "execute_result"
    }
   ],
   "source": [
    "#filter vaccine data for São Paulo state as an example (we could consider the entire dataframe here, but as demonstration, we will use only São Paulo related data)\n",
    "df_vaccines = df_full.filter(col('State') =='SP').select(col('paciente_uuid'), col('vacina'), col('data_aplicacao'), col('estabelecimento'), col('paciente_municipio'), col('paciente_sexo_biologico'), col('paciente_etnia'))\n",
    "df_vaccines.limit(5).toPandas()"
   ]
  },
  {
   "cell_type": "code",
   "execution_count": 33,
   "metadata": {
    "editable": true
   },
   "outputs": [
    {
     "data": {
      "text/html": [
       "<div>\n",
       "<style scoped>\n",
       "    .dataframe tbody tr th:only-of-type {\n",
       "        vertical-align: middle;\n",
       "    }\n",
       "\n",
       "    .dataframe tbody tr th {\n",
       "        vertical-align: top;\n",
       "    }\n",
       "\n",
       "    .dataframe thead th {\n",
       "        text-align: right;\n",
       "    }\n",
       "</style>\n",
       "<table border=\"1\" class=\"dataframe\">\n",
       "  <thead>\n",
       "    <tr style=\"text-align: right;\">\n",
       "      <th></th>\n",
       "      <th>id</th>\n",
       "      <th>vaccine_name</th>\n",
       "      <th>vaccine_date</th>\n",
       "      <th>vaccine_local</th>\n",
       "      <th>patient_city</th>\n",
       "      <th>patient_sex</th>\n",
       "      <th>patient_color</th>\n",
       "    </tr>\n",
       "  </thead>\n",
       "  <tbody>\n",
       "    <tr>\n",
       "      <th>0</th>\n",
       "      <td>478973ee-c1c0-5b63-80ed-9ca773a066da</td>\n",
       "      <td>Covid-19-Coronavac-Sinovac/Butantan</td>\n",
       "      <td>2021-02-12</td>\n",
       "      <td>CENTRO DE SAUDE II DE BROTAS</td>\n",
       "      <td>Boa Esperança do Sul</td>\n",
       "      <td>M</td>\n",
       "      <td>Branca</td>\n",
       "    </tr>\n",
       "    <tr>\n",
       "      <th>1</th>\n",
       "      <td>2858d7d5-7857-5b4e-a12d-9b80fca9c263</td>\n",
       "      <td>Covid-19-Coronavac-Sinovac/Butantan</td>\n",
       "      <td>2021-02-12</td>\n",
       "      <td>CENTRO DE SAUDE NOVA ESPERANCA BOA ESPERANCA D...</td>\n",
       "      <td>Boa Esperança do Sul</td>\n",
       "      <td>F</td>\n",
       "      <td>Amarela</td>\n",
       "    </tr>\n",
       "    <tr>\n",
       "      <th>2</th>\n",
       "      <td>c3ac7ab9-d08b-55cb-8e56-81cdac8f363a</td>\n",
       "      <td>Covid-19-Coronavac-Sinovac/Butantan</td>\n",
       "      <td>2021-02-08</td>\n",
       "      <td>CENTRO DE SAUDE III BOA ESPERANCA DO SUL</td>\n",
       "      <td>Boa Esperança do Sul</td>\n",
       "      <td>F</td>\n",
       "      <td>Branca</td>\n",
       "    </tr>\n",
       "    <tr>\n",
       "      <th>3</th>\n",
       "      <td>8aca8c9c-4bbb-5c2d-b614-3f8d8205abcd</td>\n",
       "      <td>Covid-19-Coronavac-Sinovac/Butantan</td>\n",
       "      <td>2021-02-12</td>\n",
       "      <td>CENTRO DE SAUDE NOVA ESPERANCA BOA ESPERANCA D...</td>\n",
       "      <td>Boa Esperança do Sul</td>\n",
       "      <td>F</td>\n",
       "      <td>Branca</td>\n",
       "    </tr>\n",
       "    <tr>\n",
       "      <th>4</th>\n",
       "      <td>f0f84435-f601-5b02-b26a-52a71f0df619</td>\n",
       "      <td>Covid-19-Coronavac-Sinovac/Butantan</td>\n",
       "      <td>2021-02-12</td>\n",
       "      <td>USF PALMEIRAS BOA ESPERANCA DO SUL</td>\n",
       "      <td>Boa Esperança do Sul</td>\n",
       "      <td>F</td>\n",
       "      <td>Branca</td>\n",
       "    </tr>\n",
       "  </tbody>\n",
       "</table>\n",
       "</div>"
      ],
      "text/plain": [
       "                                     id                         vaccine_name  \\\n",
       "0  478973ee-c1c0-5b63-80ed-9ca773a066da  Covid-19-Coronavac-Sinovac/Butantan   \n",
       "1  2858d7d5-7857-5b4e-a12d-9b80fca9c263  Covid-19-Coronavac-Sinovac/Butantan   \n",
       "2  c3ac7ab9-d08b-55cb-8e56-81cdac8f363a  Covid-19-Coronavac-Sinovac/Butantan   \n",
       "3  8aca8c9c-4bbb-5c2d-b614-3f8d8205abcd  Covid-19-Coronavac-Sinovac/Butantan   \n",
       "4  f0f84435-f601-5b02-b26a-52a71f0df619  Covid-19-Coronavac-Sinovac/Butantan   \n",
       "\n",
       "  vaccine_date                                      vaccine_local  \\\n",
       "0   2021-02-12                       CENTRO DE SAUDE II DE BROTAS   \n",
       "1   2021-02-12  CENTRO DE SAUDE NOVA ESPERANCA BOA ESPERANCA D...   \n",
       "2   2021-02-08           CENTRO DE SAUDE III BOA ESPERANCA DO SUL   \n",
       "3   2021-02-12  CENTRO DE SAUDE NOVA ESPERANCA BOA ESPERANCA D...   \n",
       "4   2021-02-12                 USF PALMEIRAS BOA ESPERANCA DO SUL   \n",
       "\n",
       "           patient_city patient_sex patient_color  \n",
       "0  Boa Esperança do Sul           M        Branca  \n",
       "1  Boa Esperança do Sul           F       Amarela  \n",
       "2  Boa Esperança do Sul           F        Branca  \n",
       "3  Boa Esperança do Sul           F        Branca  \n",
       "4  Boa Esperança do Sul           F        Branca  "
      ]
     },
     "execution_count": 33,
     "metadata": {},
     "output_type": "execute_result"
    }
   ],
   "source": [
    "def create_vaccines_table(df_vaccines):\n",
    "    #Rename columns to match datamodel\n",
    "    df_vaccines = df_vaccines.withColumnRenamed(\"paciente_uuid\", \"id\")\n",
    "    df_vaccines = df_vaccines.withColumnRenamed(\"vacina\", \"vaccine_name\")\n",
    "    df_vaccines = df_vaccines.withColumnRenamed(\"estabelecimento\", \"vaccine_local\")\n",
    "    df_vaccines = df_vaccines.withColumnRenamed(\"data_aplicacao\", \"vaccine_date\")\n",
    "    df_vaccines = df_vaccines.withColumnRenamed(\"paciente_municipio\", \"patient_city\")\n",
    "    df_vaccines = df_vaccines.withColumnRenamed(\"paciente_sexo_biologico\", \"patient_sex\")\n",
    "    df_vaccines = df_vaccines.withColumnRenamed(\"paciente_etnia\", \"patient_color\")\n",
    "    return df_vaccines\n",
    "\n",
    "df_vaccines = create_vaccines_table(df_vaccines)\n",
    "df_vaccines.limit(5).toPandas()"
   ]
  },
  {
   "cell_type": "code",
   "execution_count": 34,
   "metadata": {
    "editable": true
   },
   "outputs": [],
   "source": [
    "#save vaccines info to parquet \n",
    "partition_columns = ['vaccine_date', 'patient_city']\n",
    "save_to_parquet(df_vaccines, output_folder + \"vaccines\", partition_columns)"
   ]
  },
  {
   "cell_type": "markdown",
   "metadata": {
    "editable": true
   },
   "source": [
    "#### 4.2 Data Quality Checks\n",
    "\n",
    "The data quality will check for:\n",
    "* Integrity of the table schemas\n",
    "* Verify for empty tables"
   ]
  },
  {
   "cell_type": "code",
   "execution_count": 35,
   "metadata": {
    "editable": true
   },
   "outputs": [],
   "source": [
    "# Perform quality checks here\n",
    "\n",
    "def run_quality_checks(table_schemas):\n",
    "    tables_to_check = table_schemas.keys()\n",
    "    failed_list=[]\n",
    "    for table in tables_to_check:\n",
    "        parquetFile = spark.read.parquet(output_folder + table)\n",
    "\n",
    "        # Check for the empty parquet file\n",
    "        if parquetFile.count() <= 0:\n",
    "            failed_list.append(\"Table {} is empty.\")\n",
    "        # Compare the schema to check the table integrity\n",
    "        if len((set(parquetFile.columns) ^ set(table_schemas.get(table))) | (set(parquetFile.columns) ^ set(table_schemas.get(table)))) > 0:\n",
    "            failed_list.append(\"Table '{}' has discrepancies in the schema.\".format(table))\n",
    "            \n",
    "    return failed_list"
   ]
  },
  {
   "cell_type": "code",
   "execution_count": 36,
   "metadata": {
    "editable": true
   },
   "outputs": [
    {
     "name": "stdout",
     "output_type": "stream",
     "text": [
      "Quality Check passed\n"
     ]
    }
   ],
   "source": [
    "# Dict with the table name and it columns\n",
    "table_schemas = {\n",
    "    'calendar': ['date', 'day', 'weekday', 'year', 'month', 'week'],\n",
    "    'cities':   ['city_name', 'state_name', 'total_population', 'masc_population', 'fem_population', 'white_population', \n",
    "                 'black_population', 'yellow_population', 'brown_population', 'indigenous_population'],\n",
    "    'vaccines':   ['id', 'vaccine_name', 'vaccine_local', 'vaccine_date', 'patient_city', 'patient_sex', 'patient_color']\n",
    "}\n",
    "   \n",
    "failed_list = run_quality_checks(table_schemas)\n",
    "\n",
    "if len(failed_list) > 0:\n",
    "    print(\"We have some errors: \", failed_list)\n",
    "else:\n",
    "    print(\"Quality Check passed\")"
   ]
  },
  {
   "cell_type": "markdown",
   "metadata": {
    "editable": true
   },
   "source": [
    "#### 4.3 Data dictionary\n",
    "\n",
    "#### Calendar table\n",
    "\n",
    "| Column  |Description|\n",
    "|---------|------------|\n",
    "| date | The date of vaccination (yyyy-mm-dd) |\n",
    "| day | Day (1-31) |\n",
    "| week | Week (1-53) |\n",
    "| month | Month (1-12) |\n",
    "| year | Year (0-9999) |\n",
    "| weekday | Weekday (1-7) |\n",
    "\n",
    "#### Cities table\n",
    "\n",
    "| Column  |Description|\n",
    "|---------|------------|\n",
    "| city_name | City name |\n",
    "| state_name | State Acronym (2 chars) |\n",
    "| total_population | Number of total population  |\n",
    "| masc_population | Number of masculine population |\n",
    "| fem_population | Number of feminine population |\n",
    "| white_population | Number of white population |\n",
    "| black_population | Number of black population |\n",
    "| yellow_population | Number of yellow population |\n",
    "| brown_population | Number of brown population |\n",
    "| indigenous_population | Number of indigenous population|\n",
    "\n",
    "#### Vaccines table\n",
    "\n",
    "|Column  |Description|\n",
    "|---------|------------|\n",
    "| id | Vaccination ID |\n",
    "| vaccine_name | Vaccine brand name |\n",
    "| vaccine_local | Local of vaccination |\n",
    "| vaccine_date | Date of vaccination |\n",
    "| patient_city | City in which patient lives |\n",
    "| patient_sex | Biological sex related to the patient |\n",
    "| patient_color | Color related to the patient |"
   ]
  },
  {
   "cell_type": "markdown",
   "metadata": {
    "editable": true
   },
   "source": [
    "#### 4.4 Data analysis"
   ]
  },
  {
   "cell_type": "code",
   "execution_count": 55,
   "metadata": {
    "editable": true
   },
   "outputs": [],
   "source": [
    "#Reading Parquet files\n",
    "output_folder = \"output/\"\n",
    "\n",
    "vaccines_pqt = spark.read.parquet(output_folder + \"vaccines\")\n",
    "vaccines_pqt.createOrReplaceTempView(\"vaccines\")\n",
    "\n",
    "cities_pqt = spark.read.parquet(output_folder + \"cities\")\n",
    "cities_pqt.createOrReplaceTempView(\"cities\")"
   ]
  },
  {
   "cell_type": "code",
   "execution_count": 83,
   "metadata": {
    "editable": true
   },
   "outputs": [
    {
     "name": "stdout",
     "output_type": "stream",
     "text": [
      "       city_name  vac_percent\n",
      "0      Tabatinga    40.194743\n",
      "1  São Francisco    33.870390\n",
      "2       Planalto    32.466950\n",
      "3    Alto Alegre    28.010726\n",
      "4      Turmalina    23.154702\n",
      "5      Vera Cruz    18.302535\n",
      "6      Arco-Íris    13.454545\n",
      "7       Eldorado    12.000546\n",
      "8         Cedral    10.599599\n",
      "9     Terra Roxa     9.911817\n"
     ]
    }
   ],
   "source": [
    "# Top 10 cities in São Paulo state with the higher % of vaccinated population (Please note that this dataset is from 1 year ago)\n",
    "\n",
    "most_vaccinated_cities = spark.sql(\"\"\"\n",
    "SELECT c.city_name, (count(DISTINCT (v.id))*100/c.total_population) as vac_percent\n",
    "FROM cities c\n",
    "JOIN vaccines v ON c.city_name = v.patient_city\n",
    "WHERE c.state_name = 'SP'\n",
    "GROUP BY c.city_name, c.total_population\n",
    "ORDER BY vac_percent DESC LIMIT 10\n",
    "\"\"\")\n",
    "df_most_vaccinated_cities = most_vaccinated_cities.toPandas()\n",
    "print (df_most_vaccinated_cities)"
   ]
  },
  {
   "cell_type": "code",
   "execution_count": 86,
   "metadata": {
    "editable": true
   },
   "outputs": [
    {
     "data": {
      "image/png": "[encoded data removed]",
      "text/plain": [
       "<matplotlib.figure.Figure at 0x7f5190325630>"
      ]
     },
     "metadata": {
      "needs_background": "light"
     },
     "output_type": "display_data"
    }
   ],
   "source": [
    "fig = plt.figure(figsize=(20, 8)) # Create matplotlib figure\n",
    "\n",
    "ax = fig.add_subplot(111) # Create matplotlib axes\n",
    "\n",
    "ax.set_ylabel('Vaccinated Population (%)')\n",
    "ax.set_xlabel('Cities')\n",
    "ax.set_title('Top 10 cities in São Paulo state with the HIHGER % of vaccinated population')\n",
    "ax.legend()\n",
    "\n",
    "df_most_vaccinated_cities.sort_values(['vac_percent'],  ascending = False).plot(x='city_name', y='vac_percent', kind='bar', color='red', ax=ax)\n",
    "\n",
    "plt.show()"
   ]
  },
  {
   "cell_type": "code",
   "execution_count": 87,
   "metadata": {
    "editable": true
   },
   "outputs": [
    {
     "name": "stdout",
     "output_type": "stream",
     "text": [
      "         city_name  vac_percent\n",
      "0            Iperó     1.621908\n",
      "1           Ibiúna     1.693416\n",
      "2  Itaquaquecetuba     1.756845\n",
      "3          Jandira     1.779517\n",
      "4      Carapicuíba     1.826107\n",
      "5          Itapevi     1.885749\n",
      "6          Guariba     1.902159\n",
      "7            Potim     1.917822\n",
      "8  Várzea Paulista     1.940442\n",
      "9     Araçariguama     1.990632\n"
     ]
    }
   ],
   "source": [
    "# Top 10 cities with the lower % of vaccinated population\n",
    "\n",
    "less_vaccinated_cities = spark.sql(\"\"\"\n",
    "SELECT c.city_name, (count(DISTINCT (v.id))*100/c.total_population) as vac_percent\n",
    "FROM cities c\n",
    "JOIN vaccines v ON c.city_name = v.patient_city\n",
    "WHERE c.state_name = 'SP'\n",
    "GROUP BY c.city_name, c.total_population\n",
    "ORDER BY vac_percent ASC LIMIT 10\n",
    "\"\"\")\n",
    "df_less_vaccinated_cities = less_vaccinated_cities.toPandas()\n",
    "print (df_less_vaccinated_cities)"
   ]
  },
  {
   "cell_type": "code",
   "execution_count": 88,
   "metadata": {
    "editable": true
   },
   "outputs": [
    {
     "data": {
      "image/png": "[encoded data removed]",
      "text/plain": [
       "<matplotlib.figure.Figure at 0x7f51903058d0>"
      ]
     },
     "metadata": {
      "needs_background": "light"
     },
     "output_type": "display_data"
    }
   ],
   "source": [
    "fig = plt.figure(figsize=(20, 8)) # Create matplotlib figure\n",
    "\n",
    "ax = fig.add_subplot(111) # Create matplotlib axes\n",
    "\n",
    "ax.set_ylabel('Vaccinated Population (%)')\n",
    "ax.set_xlabel('Cities')\n",
    "ax.set_title('Top 10 cities in São Paulo state with the LOWER % of vaccinated population')\n",
    "ax.legend()\n",
    "\n",
    "df_less_vaccinated_cities.sort_values(['vac_percent'],  ascending = False).plot(x='city_name', y='vac_percent', kind='bar', color='red', ax=ax)\n",
    "\n",
    "plt.show()"
   ]
  },
  {
   "cell_type": "code",
   "execution_count": 94,
   "metadata": {
    "editable": true
   },
   "outputs": [
    {
     "name": "stdout",
     "output_type": "stream",
     "text": [
      "                                        vaccine_name  count(DISTINCT id)\n",
      "0                Covid-19-Coronavac-Sinovac/Butantan              307784\n",
      "1                       Vacina Covid-19 - Covishield              106567\n",
      "2  Vacina covid-19 - BNT162b2 - BioNTech/Fosun Ph...                   1\n"
     ]
    }
   ],
   "source": [
    "# Top vaccine brands used in Tabatinga - We will use São Paulo city as an example since it the biggest city in Brazil\n",
    "top_vaccine_brands = spark.sql(\"\"\"\n",
    "SELECT v.vaccine_name, (count(DISTINCT (v.id)))\n",
    "FROM cities c\n",
    "JOIN vaccines v ON c.city_name = v.patient_city\n",
    "WHERE c.state_name = 'SP' and c.city_name = 'São Paulo'\n",
    "GROUP BY v.vaccine_name\n",
    "\"\"\")\n",
    "df_top_vaccine_brands = top_vaccine_brands.toPandas()\n",
    "print (df_top_vaccine_brands)\n",
    "# Here it is possible to see that at the moment the dataset was taken, Brazil was only using a few vaccine brands"
   ]
  },
  {
   "cell_type": "code",
   "execution_count": 96,
   "metadata": {
    "editable": true
   },
   "outputs": [
    {
     "name": "stdout",
     "output_type": "stream",
     "text": [
      "  patient_color  vac_count\n",
      "0      Indígena        589\n",
      "1          None     189230\n",
      "2         Preta       7896\n",
      "3       Amarela      15851\n",
      "4        Branca      79405\n",
      "5         Parda      14827\n"
     ]
    }
   ],
   "source": [
    "# Color division related to 'Covid-19-Coronavac-Sinovac/Butantan' in São Paulo city\n",
    "color_division_1 = spark.sql(\"\"\"\n",
    "SELECT v.patient_color, (count(DISTINCT (v.id))) as vac_count\n",
    "FROM cities c\n",
    "JOIN vaccines v ON c.city_name = v.patient_city\n",
    "WHERE c.state_name = 'SP' and c.city_name = 'São Paulo' and v.vaccine_name = 'Covid-19-Coronavac-Sinovac/Butantan'\n",
    "GROUP BY v.patient_color\n",
    "\"\"\")\n",
    "\n",
    "df_color_division_1 = color_division_1.toPandas()\n",
    "print (df_color_division_1)"
   ]
  },
  {
   "cell_type": "code",
   "execution_count": 99,
   "metadata": {
    "editable": true
   },
   "outputs": [
    {
     "data": {
      "image/png": "[encoded data removed]",
      "text/plain": [
       "<matplotlib.figure.Figure at 0x7f51902248d0>"
      ]
     },
     "metadata": {
      "needs_background": "light"
     },
     "output_type": "display_data"
    }
   ],
   "source": [
    "fig = plt.figure(figsize=(20, 8)) # Create matplotlib figure\n",
    "\n",
    "ax = fig.add_subplot(111) # Create matplotlib axes\n",
    "\n",
    "ax.set_ylabel('Vaccinated Population')\n",
    "ax.set_xlabel('Patient Color')\n",
    "ax.set_title('Color division related to Covid-19-Coronavac-Sinovac/Butantan vaccine in São Paulo city')\n",
    "ax.legend()\n",
    "\n",
    "df_color_division_1.sort_values(['vac_count'],  ascending = False).plot(x='patient_color', y='vac_count', kind='bar', color='red', ax=ax)\n",
    "\n",
    "plt.show()"
   ]
  },
  {
   "cell_type": "code",
   "execution_count": 101,
   "metadata": {
    "editable": true
   },
   "outputs": [
    {
     "name": "stdout",
     "output_type": "stream",
     "text": [
      "  patient_color  vac_count\n",
      "0      Indígena         37\n",
      "1          None      58945\n",
      "2         Preta       3830\n",
      "3       Amarela       7596\n",
      "4        Branca      29158\n",
      "5         Parda       7001\n"
     ]
    }
   ],
   "source": [
    "# Color division related to 'Vacina Covid-19 - Covishield' in São Paulo city\n",
    "color_division_2 = spark.sql(\"\"\"\n",
    "SELECT v.patient_color, (count(DISTINCT (v.id))) as vac_count\n",
    "FROM cities c\n",
    "JOIN vaccines v ON c.city_name = v.patient_city\n",
    "WHERE c.state_name = 'SP' and c.city_name = 'São Paulo' and v.vaccine_name = 'Vacina Covid-19 - Covishield'\n",
    "GROUP BY v.patient_color\n",
    "\"\"\")\n",
    "\n",
    "df_color_division_2 = color_division_2.toPandas()\n",
    "print (df_color_division_2)"
   ]
  },
  {
   "cell_type": "code",
   "execution_count": 102,
   "metadata": {
    "editable": true
   },
   "outputs": [
    {
     "data": {
      "image/png": "[encoded data removed]",
      "text/plain": [
       "<matplotlib.figure.Figure at 0x7f5189f0f630>"
      ]
     },
     "metadata": {
      "needs_background": "light"
     },
     "output_type": "display_data"
    }
   ],
   "source": [
    "fig = plt.figure(figsize=(20, 8)) # Create matplotlib figure\n",
    "\n",
    "ax = fig.add_subplot(111) # Create matplotlib axes\n",
    "\n",
    "ax.set_ylabel('Vaccinated Population')\n",
    "ax.set_xlabel('Patient Color')\n",
    "ax.set_title('Color division related to Vacina Covid-19 - Covishield vaccine in São Paulo city')\n",
    "ax.legend()\n",
    "\n",
    "df_color_division_2.sort_values(['vac_count'],  ascending = False).plot(x='patient_color', y='vac_count', kind='bar', color='red', ax=ax)\n",
    "\n",
    "plt.show()"
   ]
  },
  {
   "cell_type": "code",
   "execution_count": 106,
   "metadata": {
    "editable": true
   },
   "outputs": [
    {
     "data": {
      "text/html": [
       "<div>\n",
       "<style scoped>\n",
       "    .dataframe tbody tr th:only-of-type {\n",
       "        vertical-align: middle;\n",
       "    }\n",
       "\n",
       "    .dataframe tbody tr th {\n",
       "        vertical-align: top;\n",
       "    }\n",
       "\n",
       "    .dataframe thead th {\n",
       "        text-align: right;\n",
       "    }\n",
       "</style>\n",
       "<table border=\"1\" class=\"dataframe\">\n",
       "  <thead>\n",
       "    <tr style=\"text-align: right;\">\n",
       "      <th></th>\n",
       "      <th>total_population</th>\n",
       "      <th>masc_population</th>\n",
       "      <th>fem_population</th>\n",
       "      <th>white_population</th>\n",
       "      <th>black_population</th>\n",
       "      <th>yellow_population</th>\n",
       "      <th>brown_population</th>\n",
       "      <th>indigenous_population</th>\n",
       "      <th>state_name</th>\n",
       "      <th>city_name</th>\n",
       "    </tr>\n",
       "  </thead>\n",
       "  <tbody>\n",
       "    <tr>\n",
       "      <th>0</th>\n",
       "      <td>11253503</td>\n",
       "      <td>5328632</td>\n",
       "      <td>5924871</td>\n",
       "      <td>6823004</td>\n",
       "      <td>717215</td>\n",
       "      <td>250146</td>\n",
       "      <td>3447290</td>\n",
       "      <td>12959</td>\n",
       "      <td>SP</td>\n",
       "      <td>São Paulo</td>\n",
       "    </tr>\n",
       "  </tbody>\n",
       "</table>\n",
       "</div>"
      ],
      "text/plain": [
       "   total_population  masc_population  fem_population  white_population  \\\n",
       "0          11253503          5328632         5924871           6823004   \n",
       "\n",
       "   black_population  yellow_population  brown_population  \\\n",
       "0            717215             250146           3447290   \n",
       "\n",
       "   indigenous_population state_name  city_name  \n",
       "0                  12959         SP  São Paulo  "
      ]
     },
     "metadata": {},
     "output_type": "display_data"
    }
   ],
   "source": [
    "# For comparison, let's check São Paulo color division based on total population\n",
    "sp_color_division = spark.sql(\"\"\"\n",
    "SELECT *\n",
    "FROM cities c\n",
    "WHERE c.state_name = 'SP' and c.city_name = 'São Paulo'\n",
    "\"\"\")\n",
    "\n",
    "df_sp_color_division = sp_color_division.toPandas()\n",
    "display(df_sp_color_division)"
   ]
  },
  {
   "cell_type": "markdown",
   "metadata": {
    "editable": true
   },
   "source": [
    "This analysis was just an example but many other can be performed as well:\n",
    " * Other cities and states could be considered\n",
    " * We could filter the vaccination count difference by sex. \n",
    " * We could also compare the most and less vaccinate cities for a specific color. "
   ]
  },
  {
   "cell_type": "markdown",
   "metadata": {
    "editable": true
   },
   "source": [
    "#### Step 5: Complete Project Write Up\n",
    "* Clearly state the rationale for the choice of tools and technologies for the project.\n",
    "    * Answer: PySpark was used because we can increase the amount of data and it will handle well it's very easy to make debug and tests things.\n",
    "\n",
    "* Propose how often the data should be updated and why.\n",
    "    * Answer: The data should by updated yearly in vaccination dataset case (it was gathered 1 year ago).\n",
    "\n",
    "* Write a description of how you would approach the problem differently under the following scenarios:\n",
    " \n",
    "    * The data was increased by 100x.\n",
    "        * Answer: We can scale up the Spark cluster, also we can make some improvements in the way we make the join to optimize that. Alternatively, we can use the EMR, once that tool can access the data in various sources like S3, HDFS, Redshift and others.\n",
    " \n",
    "    * The data populates a dashboard that must be updated on a daily basis by 7am every day.\n",
    "        * Answer: Once all the vaccine data is collected, we can do it using the Airflow as a task orchestrator and PySpark, Redshift or even EMR to transform and process all the data or even just the last day data.\n",
    "\n",
    "    * The database needed to be accessed by 100+ people.\n",
    "        * Answer: We can use the s3 folder or even a Redshift cluster to save the data. Also we can better agregate the data case we face issues in the performance or network and use a Apache Cassandra (NoSQL) to save that agregatted data to a faster reading."
   ]
  },
  {
   "cell_type": "code",
   "execution_count": null,
   "metadata": {
    "editable": true
   },
   "outputs": [],
   "source": []
  },
  {
   "cell_type": "code",
   "execution_count": null,
   "metadata": {
    "editable": true
   },
   "outputs": [],
   "source": []
  },
  {
   "cell_type": "code",
   "execution_count": null,
   "metadata": {
    "editable": true
   },
   "outputs": [],
   "source": []
  },
  {
   "cell_type": "code",
   "execution_count": null,
   "metadata": {
    "editable": true
   },
   "outputs": [],
   "source": []
  },
  {
   "cell_type": "code",
   "execution_count": null,
   "metadata": {
    "editable": true
   },
   "outputs": [],
   "source": []
  },
  {
   "cell_type": "code",
   "execution_count": null,
   "metadata": {
    "editable": true
   },
   "outputs": [],
   "source": []
  },
  {
   "cell_type": "code",
   "execution_count": null,
   "metadata": {
    "editable": true
   },
   "outputs": [],
   "source": []
  }
 ],
 "metadata": {
  "kernelspec": {
   "display_name": "Python 3",
   "language": "python",
   "name": "python3"
  },
  "language_info": {
   "codemirror_mode": {
    "name": "ipython",
    "version": 3
   },
   "file_extension": ".py",
   "mimetype": "text/x-python",
   "name": "python",
   "nbconvert_exporter": "python",
   "pygments_lexer": "ipython3",
   "version": "3.6.3"
  }
 },
 "nbformat": 4,
 "nbformat_minor": 4
}
